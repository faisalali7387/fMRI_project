{
 "cells": [
  {
   "cell_type": "code",
   "execution_count": null,
   "id": "1fe4a6c0-3d08-4667-8adb-ea948ccc37d7",
   "metadata": {},
   "outputs": [
    {
     "name": "stdout",
     "output_type": "stream",
     "text": [
      "🔍 Found 40 files.\n"
     ]
    },
    {
     "name": "stderr",
     "output_type": "stream",
     "text": [
      "Processing fMRI files:   2%|▌                    | 1/40 [00:04<02:47,  4.30s/it]"
     ]
    },
    {
     "name": "stdout",
     "output_type": "stream",
     "text": [
      "✅ Saved chunk 0 → clean_chunk_0.npy, noisy_chunk_0.npy\n"
     ]
    },
    {
     "name": "stderr",
     "output_type": "stream",
     "text": [
      "Processing fMRI files:   5%|█                    | 2/40 [00:07<02:23,  3.78s/it]"
     ]
    },
    {
     "name": "stdout",
     "output_type": "stream",
     "text": [
      "✅ Saved chunk 1 → clean_chunk_1.npy, noisy_chunk_1.npy\n"
     ]
    },
    {
     "name": "stderr",
     "output_type": "stream",
     "text": [
      "Processing fMRI files:   8%|█▌                   | 3/40 [00:09<01:51,  3.01s/it]"
     ]
    },
    {
     "name": "stdout",
     "output_type": "stream",
     "text": [
      "✅ Saved chunk 2 → clean_chunk_2.npy, noisy_chunk_2.npy\n"
     ]
    },
    {
     "name": "stderr",
     "output_type": "stream",
     "text": [
      "Processing fMRI files:  10%|██                   | 4/40 [00:11<01:32,  2.57s/it]"
     ]
    },
    {
     "name": "stdout",
     "output_type": "stream",
     "text": [
      "✅ Saved chunk 3 → clean_chunk_3.npy, noisy_chunk_3.npy\n"
     ]
    },
    {
     "name": "stderr",
     "output_type": "stream",
     "text": [
      "Processing fMRI files:  12%|██▋                  | 5/40 [00:13<01:21,  2.33s/it]"
     ]
    },
    {
     "name": "stdout",
     "output_type": "stream",
     "text": [
      "✅ Saved chunk 4 → clean_chunk_4.npy, noisy_chunk_4.npy\n"
     ]
    },
    {
     "name": "stderr",
     "output_type": "stream",
     "text": [
      "Processing fMRI files:  15%|███▏                 | 6/40 [00:15<01:14,  2.19s/it]"
     ]
    },
    {
     "name": "stdout",
     "output_type": "stream",
     "text": [
      "✅ Saved chunk 5 → clean_chunk_5.npy, noisy_chunk_5.npy\n"
     ]
    },
    {
     "name": "stderr",
     "output_type": "stream",
     "text": [
      "Processing fMRI files:  18%|███▋                 | 7/40 [00:17<01:11,  2.15s/it]"
     ]
    },
    {
     "name": "stdout",
     "output_type": "stream",
     "text": [
      "✅ Saved chunk 6 → clean_chunk_6.npy, noisy_chunk_6.npy\n"
     ]
    },
    {
     "name": "stderr",
     "output_type": "stream",
     "text": [
      "Processing fMRI files:  20%|████▏                | 8/40 [00:19<01:07,  2.12s/it]"
     ]
    },
    {
     "name": "stdout",
     "output_type": "stream",
     "text": [
      "✅ Saved chunk 7 → clean_chunk_7.npy, noisy_chunk_7.npy\n"
     ]
    },
    {
     "name": "stderr",
     "output_type": "stream",
     "text": [
      "Processing fMRI files:  22%|████▋                | 9/40 [00:21<01:05,  2.11s/it]"
     ]
    },
    {
     "name": "stdout",
     "output_type": "stream",
     "text": [
      "✅ Saved chunk 8 → clean_chunk_8.npy, noisy_chunk_8.npy\n"
     ]
    },
    {
     "name": "stderr",
     "output_type": "stream",
     "text": [
      "Processing fMRI files:  25%|█████               | 10/40 [00:23<01:01,  2.07s/it]"
     ]
    },
    {
     "name": "stdout",
     "output_type": "stream",
     "text": [
      "✅ Saved chunk 9 → clean_chunk_9.npy, noisy_chunk_9.npy\n"
     ]
    },
    {
     "name": "stderr",
     "output_type": "stream",
     "text": [
      "Processing fMRI files:  28%|█████▌              | 11/40 [00:25<00:58,  2.03s/it]"
     ]
    },
    {
     "name": "stdout",
     "output_type": "stream",
     "text": [
      "✅ Saved chunk 10 → clean_chunk_10.npy, noisy_chunk_10.npy\n"
     ]
    },
    {
     "name": "stderr",
     "output_type": "stream",
     "text": [
      "Processing fMRI files:  30%|██████              | 12/40 [00:27<00:55,  1.99s/it]"
     ]
    },
    {
     "name": "stdout",
     "output_type": "stream",
     "text": [
      "✅ Saved chunk 11 → clean_chunk_11.npy, noisy_chunk_11.npy\n"
     ]
    },
    {
     "name": "stderr",
     "output_type": "stream",
     "text": [
      "Processing fMRI files:  32%|██████▌             | 13/40 [00:29<00:54,  2.02s/it]"
     ]
    },
    {
     "name": "stdout",
     "output_type": "stream",
     "text": [
      "✅ Saved chunk 12 → clean_chunk_12.npy, noisy_chunk_12.npy\n"
     ]
    },
    {
     "name": "stderr",
     "output_type": "stream",
     "text": [
      "Processing fMRI files:  35%|███████             | 14/40 [00:31<00:52,  2.00s/it]"
     ]
    },
    {
     "name": "stdout",
     "output_type": "stream",
     "text": [
      "✅ Saved chunk 13 → clean_chunk_13.npy, noisy_chunk_13.npy\n"
     ]
    },
    {
     "name": "stderr",
     "output_type": "stream",
     "text": [
      "Processing fMRI files:  38%|███████▌            | 15/40 [00:33<00:49,  1.99s/it]"
     ]
    },
    {
     "name": "stdout",
     "output_type": "stream",
     "text": [
      "✅ Saved chunk 14 → clean_chunk_14.npy, noisy_chunk_14.npy\n"
     ]
    },
    {
     "name": "stderr",
     "output_type": "stream",
     "text": [
      "Processing fMRI files:  40%|████████            | 16/40 [00:35<00:47,  1.98s/it]"
     ]
    },
    {
     "name": "stdout",
     "output_type": "stream",
     "text": [
      "✅ Saved chunk 15 → clean_chunk_15.npy, noisy_chunk_15.npy\n"
     ]
    },
    {
     "name": "stderr",
     "output_type": "stream",
     "text": [
      "Processing fMRI files:  42%|████████▌           | 17/40 [00:37<00:45,  1.99s/it]"
     ]
    },
    {
     "name": "stdout",
     "output_type": "stream",
     "text": [
      "✅ Saved chunk 16 → clean_chunk_16.npy, noisy_chunk_16.npy\n"
     ]
    },
    {
     "name": "stderr",
     "output_type": "stream",
     "text": [
      "Processing fMRI files:  45%|█████████           | 18/40 [00:39<00:44,  2.01s/it]"
     ]
    },
    {
     "name": "stdout",
     "output_type": "stream",
     "text": [
      "✅ Saved chunk 17 → clean_chunk_17.npy, noisy_chunk_17.npy\n"
     ]
    },
    {
     "name": "stderr",
     "output_type": "stream",
     "text": [
      "Processing fMRI files:  48%|█████████▌          | 19/40 [00:41<00:42,  2.02s/it]"
     ]
    },
    {
     "name": "stdout",
     "output_type": "stream",
     "text": [
      "✅ Saved chunk 18 → clean_chunk_18.npy, noisy_chunk_18.npy\n"
     ]
    },
    {
     "name": "stderr",
     "output_type": "stream",
     "text": [
      "Processing fMRI files:  50%|██████████          | 20/40 [00:43<00:40,  2.01s/it]"
     ]
    },
    {
     "name": "stdout",
     "output_type": "stream",
     "text": [
      "✅ Saved chunk 19 → clean_chunk_19.npy, noisy_chunk_19.npy\n"
     ]
    },
    {
     "name": "stderr",
     "output_type": "stream",
     "text": [
      "Processing fMRI files:  52%|██████████▌         | 21/40 [00:45<00:38,  2.00s/it]"
     ]
    },
    {
     "name": "stdout",
     "output_type": "stream",
     "text": [
      "✅ Saved chunk 20 → clean_chunk_20.npy, noisy_chunk_20.npy\n"
     ]
    },
    {
     "name": "stderr",
     "output_type": "stream",
     "text": [
      "Processing fMRI files:  55%|███████████         | 22/40 [00:47<00:36,  2.03s/it]"
     ]
    },
    {
     "name": "stdout",
     "output_type": "stream",
     "text": [
      "✅ Saved chunk 21 → clean_chunk_21.npy, noisy_chunk_21.npy\n"
     ]
    },
    {
     "name": "stderr",
     "output_type": "stream",
     "text": [
      "Processing fMRI files:  57%|███████████▌        | 23/40 [00:49<00:35,  2.06s/it]"
     ]
    },
    {
     "name": "stdout",
     "output_type": "stream",
     "text": [
      "✅ Saved chunk 22 → clean_chunk_22.npy, noisy_chunk_22.npy\n"
     ]
    },
    {
     "name": "stderr",
     "output_type": "stream",
     "text": [
      "Processing fMRI files:  60%|████████████        | 24/40 [00:51<00:33,  2.07s/it]"
     ]
    },
    {
     "name": "stdout",
     "output_type": "stream",
     "text": [
      "✅ Saved chunk 23 → clean_chunk_23.npy, noisy_chunk_23.npy\n"
     ]
    },
    {
     "name": "stderr",
     "output_type": "stream",
     "text": [
      "Processing fMRI files:  62%|████████████▌       | 25/40 [00:54<00:31,  2.07s/it]"
     ]
    },
    {
     "name": "stdout",
     "output_type": "stream",
     "text": [
      "✅ Saved chunk 24 → clean_chunk_24.npy, noisy_chunk_24.npy\n"
     ]
    },
    {
     "name": "stderr",
     "output_type": "stream",
     "text": [
      "Processing fMRI files:  65%|█████████████       | 26/40 [00:56<00:29,  2.07s/it]"
     ]
    },
    {
     "name": "stdout",
     "output_type": "stream",
     "text": [
      "✅ Saved chunk 25 → clean_chunk_25.npy, noisy_chunk_25.npy\n"
     ]
    },
    {
     "name": "stderr",
     "output_type": "stream",
     "text": [
      "Processing fMRI files:  68%|█████████████▌      | 27/40 [00:58<00:26,  2.07s/it]"
     ]
    },
    {
     "name": "stdout",
     "output_type": "stream",
     "text": [
      "✅ Saved chunk 26 → clean_chunk_26.npy, noisy_chunk_26.npy\n"
     ]
    },
    {
     "name": "stderr",
     "output_type": "stream",
     "text": [
      "Processing fMRI files:  70%|██████████████      | 28/40 [01:00<00:24,  2.07s/it]"
     ]
    },
    {
     "name": "stdout",
     "output_type": "stream",
     "text": [
      "✅ Saved chunk 27 → clean_chunk_27.npy, noisy_chunk_27.npy\n"
     ]
    },
    {
     "name": "stderr",
     "output_type": "stream",
     "text": [
      "Processing fMRI files:  72%|██████████████▌     | 29/40 [01:02<00:22,  2.09s/it]"
     ]
    },
    {
     "name": "stdout",
     "output_type": "stream",
     "text": [
      "✅ Saved chunk 28 → clean_chunk_28.npy, noisy_chunk_28.npy\n"
     ]
    },
    {
     "name": "stderr",
     "output_type": "stream",
     "text": [
      "Processing fMRI files:  75%|███████████████     | 30/40 [01:04<00:20,  2.09s/it]"
     ]
    },
    {
     "name": "stdout",
     "output_type": "stream",
     "text": [
      "✅ Saved chunk 29 → clean_chunk_29.npy, noisy_chunk_29.npy\n"
     ]
    },
    {
     "name": "stderr",
     "output_type": "stream",
     "text": [
      "Processing fMRI files:  78%|███████████████▌    | 31/40 [01:06<00:18,  2.08s/it]"
     ]
    },
    {
     "name": "stdout",
     "output_type": "stream",
     "text": [
      "✅ Saved chunk 30 → clean_chunk_30.npy, noisy_chunk_30.npy\n"
     ]
    },
    {
     "name": "stderr",
     "output_type": "stream",
     "text": [
      "Processing fMRI files:  80%|████████████████    | 32/40 [01:08<00:16,  2.07s/it]"
     ]
    },
    {
     "name": "stdout",
     "output_type": "stream",
     "text": [
      "✅ Saved chunk 31 → clean_chunk_31.npy, noisy_chunk_31.npy\n"
     ]
    },
    {
     "name": "stderr",
     "output_type": "stream",
     "text": [
      "Processing fMRI files:  82%|████████████████▌   | 33/40 [01:10<00:14,  2.08s/it]"
     ]
    },
    {
     "name": "stdout",
     "output_type": "stream",
     "text": [
      "✅ Saved chunk 32 → clean_chunk_32.npy, noisy_chunk_32.npy\n"
     ]
    },
    {
     "name": "stderr",
     "output_type": "stream",
     "text": [
      "Processing fMRI files:  85%|█████████████████   | 34/40 [01:12<00:12,  2.08s/it]"
     ]
    },
    {
     "name": "stdout",
     "output_type": "stream",
     "text": [
      "✅ Saved chunk 33 → clean_chunk_33.npy, noisy_chunk_33.npy\n"
     ]
    },
    {
     "name": "stderr",
     "output_type": "stream",
     "text": [
      "Processing fMRI files:  88%|█████████████████▌  | 35/40 [01:14<00:10,  2.09s/it]"
     ]
    },
    {
     "name": "stdout",
     "output_type": "stream",
     "text": [
      "✅ Saved chunk 34 → clean_chunk_34.npy, noisy_chunk_34.npy\n"
     ]
    },
    {
     "name": "stderr",
     "output_type": "stream",
     "text": [
      "Processing fMRI files:  90%|██████████████████  | 36/40 [01:16<00:08,  2.07s/it]"
     ]
    },
    {
     "name": "stdout",
     "output_type": "stream",
     "text": [
      "✅ Saved chunk 35 → clean_chunk_35.npy, noisy_chunk_35.npy\n"
     ]
    },
    {
     "name": "stderr",
     "output_type": "stream",
     "text": [
      "Processing fMRI files:  92%|██████████████████▌ | 37/40 [01:18<00:06,  2.08s/it]"
     ]
    },
    {
     "name": "stdout",
     "output_type": "stream",
     "text": [
      "✅ Saved chunk 36 → clean_chunk_36.npy, noisy_chunk_36.npy\n"
     ]
    },
    {
     "name": "stderr",
     "output_type": "stream",
     "text": [
      "Processing fMRI files:  95%|███████████████████ | 38/40 [01:21<00:04,  2.07s/it]"
     ]
    },
    {
     "name": "stdout",
     "output_type": "stream",
     "text": [
      "✅ Saved chunk 37 → clean_chunk_37.npy, noisy_chunk_37.npy\n"
     ]
    },
    {
     "name": "stderr",
     "output_type": "stream",
     "text": [
      "Processing fMRI files:  98%|███████████████████▌| 39/40 [01:23<00:02,  2.06s/it]"
     ]
    },
    {
     "name": "stdout",
     "output_type": "stream",
     "text": [
      "✅ Saved chunk 38 → clean_chunk_38.npy, noisy_chunk_38.npy\n"
     ]
    },
    {
     "name": "stderr",
     "output_type": "stream",
     "text": [
      "Processing fMRI files: 100%|████████████████████| 40/40 [01:25<00:00,  2.13s/it]"
     ]
    },
    {
     "name": "stdout",
     "output_type": "stream",
     "text": [
      "✅ Saved chunk 39 → clean_chunk_39.npy, noisy_chunk_39.npy\n",
      "\n",
      "🎉 All chunks processed and saved successfully.\n"
     ]
    },
    {
     "name": "stderr",
     "output_type": "stream",
     "text": [
      "\n"
     ]
    }
   ],
   "source": [
    "import os\n",
    "import nibabel as nib\n",
    "import numpy as np\n",
    "from tqdm import tqdm\n",
    "\n",
    "\n",
    "data_dir = \"/home/faisal/MLprojects/fMRI-LOADING/DATA\"  \n",
    "save_dir = \"./processed_chunks\"                         \n",
    "os.makedirs(save_dir, exist_ok=True)\n",
    "\n",
    "noise_std = 0.05  \n",
    "pad_at_end = True  \n",
    "CHUNK_SIZE = 300   \n",
    "file_list = sorted([f for f in os.listdir(data_dir) if f.endswith(\".nii.gz\")])\n",
    "\n",
    "print(f\"🔍 Found {len(file_list)} files.\")\n",
    "\n",
    "\n",
    "\n",
    "def add_gaussian_noise(data, std=0.05):\n",
    "    noise = np.random.normal(0, std, data.shape)\n",
    "    return data + noise\n",
    "\n",
    "def normalize_volume(vol):\n",
    "    vol = vol.astype(np.float32)\n",
    "    vol -= vol.min()\n",
    "    vol /= (vol.max() + 1e-8)\n",
    "    return vol\n",
    "\n",
    "def pad_z_axis(volume, pad_at_end=True):\n",
    "    \n",
    "    pad_slice = np.zeros((1, 64, 64), dtype=np.float32)\n",
    "    if pad_at_end:\n",
    "        return np.concatenate([volume, pad_slice], axis=0)\n",
    "    else:\n",
    "        return np.concatenate([pad_slice, volume], axis=0)\n",
    "\n",
    "\n",
    "\n",
    "chunk_idx = 0\n",
    "\n",
    "for file_name in tqdm(file_list, desc=\"Processing fMRI files\"):\n",
    "    file_path = os.path.join(data_dir, file_name)\n",
    "    nii = nib.load(file_path)\n",
    "    data = nii.get_fdata()  # (64, 64, 39, 300)\n",
    "    data = np.transpose(data, (3, 2, 1, 0))  # → (300, 39, 64, 64)\n",
    "\n",
    "    clean_volumes = []\n",
    "    for i in range(data.shape[0]):\n",
    "        vol = normalize_volume(data[i])           # (39, 64, 64)\n",
    "        vol = pad_z_axis(vol, pad_at_end=pad_at_end)  # → (40, 64, 64)\n",
    "        clean_volumes.append(vol)\n",
    "\n",
    "    clean_volumes = np.array(clean_volumes, dtype=np.float32)  # (300, 40, 64, 64)\n",
    "    noisy_volumes = add_gaussian_noise(clean_volumes, std=noise_std)\n",
    "\n",
    "    \n",
    "    clean_volumes = np.clip(clean_volumes, 0, 1)\n",
    "    noisy_volumes = np.clip(noisy_volumes, -0.2, 1.2)\n",
    "\n",
    "    \n",
    "    np.save(os.path.join(save_dir, f\"clean_chunk_{chunk_idx}.npy\"), clean_volumes)\n",
    "    np.save(os.path.join(save_dir, f\"noisy_chunk_{chunk_idx}.npy\"), noisy_volumes)\n",
    "    print(f\"✅ Saved chunk {chunk_idx} → clean_chunk_{chunk_idx}.npy, noisy_chunk_{chunk_idx}.npy\")\n",
    "\n",
    "    chunk_idx += 1\n",
    "\n",
    "print(\"\\n🎉 All chunks processed and saved successfully.\")\n"
   ]
  },
  {
   "cell_type": "code",
   "execution_count": null,
   "id": "a279de0a-803a-4717-9891-7d0dec2399c6",
   "metadata": {},
   "outputs": [],
   "source": []
  }
 ],
 "metadata": {
  "kernelspec": {
   "display_name": "Python [conda env:base] *",
   "language": "python",
   "name": "conda-base-py"
  },
  "language_info": {
   "codemirror_mode": {
    "name": "ipython",
    "version": 3
   },
   "file_extension": ".py",
   "mimetype": "text/x-python",
   "name": "python",
   "nbconvert_exporter": "python",
   "pygments_lexer": "ipython3",
   "version": "3.12.7"
  }
 },
 "nbformat": 4,
 "nbformat_minor": 5
}
