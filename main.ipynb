{
 "cells": [
  {
   "cell_type": "code",
   "execution_count": null,
   "id": "9d62cc49-0fb6-4c7f-a6f1-1ef971243ba5",
   "metadata": {},
   "outputs": [
    {
     "name": "stdout",
     "output_type": "stream",
     "text": [
      "🖥️ Using device: cuda\n"
     ]
    }
   ],
   "source": [
    "import os\n",
    "import torch\n",
    "import torch.nn as nn\n",
    "import torch.nn.functional as F\n",
    "from torch.utils.data import DataLoader\n",
    "from chunked_dataset import ChunkedNPYDataset  \n",
    "import matplotlib.pyplot as plt\n",
    "from tqdm import tqdm\n",
    "import numpy as np\n",
    "import random\n",
    "from torchinfo import summary\n",
    "\n",
    "\n",
    "def set_seed(seed=42):\n",
    "    random.seed(seed)\n",
    "    np.random.seed(seed)\n",
    "    torch.manual_seed(seed)\n",
    "    torch.cuda.manual_seed_all(seed)\n",
    "\n",
    "set_seed(42)\n",
    "\n",
    "\n",
    "device = torch.device(\"cuda\" if torch.cuda.is_available() else \"cpu\")\n",
    "print(f\"🖥️ Using device: {device}\")\n",
    "\n",
    "\n",
    "config = {\n",
    "    'chunk_dir': './processed_chunks',\n",
    "    'batch_size': 8,\n",
    "    'learning_rate': 1e-4,\n",
    "    'num_epochs': 50,\n",
    "    'checkpoint_path': 'unet3d_checkpoint.pth',\n",
    "    'best_model_path': 'best_unet3d_model.pth',\n",
    "}\n"
   ]
  },
  {
   "cell_type": "code",
   "execution_count": null,
   "id": "f62da5da-f46a-40a6-8f50-96926b510964",
   "metadata": {},
   "outputs": [
    {
     "name": "stdout",
     "output_type": "stream",
     "text": [
      "✅ Loaded dataset with 12000 samples.\n"
     ]
    },
    {
     "name": "stderr",
     "output_type": "stream",
     "text": [
      "/home/faisal/MLprojects/fMRI-LOADING/fMRI_dataloader/chunked_dataset.py:39: UserWarning: The given NumPy array is not writable, and PyTorch does not support non-writable tensors. This means writing to this tensor will result in undefined behavior. You may want to copy the array to protect its data or make it writable before converting it to a tensor. This type of warning will be suppressed for the rest of this program. (Triggered internally at ../torch/csrc/utils/tensor_numpy.cpp:206.)\n",
      "  \"clean\": torch.from_numpy(clean).unsqueeze(0).float(),\n",
      "/home/faisal/MLprojects/fMRI-LOADING/fMRI_dataloader/chunked_dataset.py:39: UserWarning: The given NumPy array is not writable, and PyTorch does not support non-writable tensors. This means writing to this tensor will result in undefined behavior. You may want to copy the array to protect its data or make it writable before converting it to a tensor. This type of warning will be suppressed for the rest of this program. (Triggered internally at ../torch/csrc/utils/tensor_numpy.cpp:206.)\n",
      "  \"clean\": torch.from_numpy(clean).unsqueeze(0).float(),\n"
     ]
    },
    {
     "name": "stdout",
     "output_type": "stream",
     "text": [
      "📐 Batch sample shape: torch.Size([8, 1, 40, 64, 64]) (should be [B, 1, 40, 64, 64])\n"
     ]
    }
   ],
   "source": [
    "\n",
    "dataset = ChunkedNPYDataset(chunk_dir=config['chunk_dir'])\n",
    "train_loader = DataLoader(\n",
    "    dataset,\n",
    "    batch_size=config['batch_size'],\n",
    "    shuffle=True,\n",
    "    num_workers=2,\n",
    "    pin_memory=True\n",
    ")\n",
    "\n",
    "print(f\"✅ Loaded dataset with {len(dataset)} samples.\")\n",
    "sample = next(iter(train_loader))\n",
    "print(f\"📐 Batch sample shape: {sample['noisy'].shape} (should be [B, 1, 40, 64, 64])\")\n",
    "\n"
   ]
  },
  {
   "cell_type": "code",
   "execution_count": null,
   "id": "2c45442d-a8bd-43e6-8189-2859531c66ce",
   "metadata": {
    "scrolled": true
   },
   "outputs": [
    {
     "name": "stdout",
     "output_type": "stream",
     "text": [
      "✅ 3D U-Net model initialized and moved to device.\n"
     ]
    },
    {
     "data": {
      "text/plain": [
       "============================================================================================================================================\n",
       "Layer (type:depth-idx)                   Input Shape               Output Shape              Param #                   Kernel Shape\n",
       "============================================================================================================================================\n",
       "UNet3D                                   [8, 1, 40, 64, 64]        [8, 1, 40, 64, 64]        --                        --\n",
       "├─Sequential: 1-1                        [8, 1, 40, 64, 64]        [8, 32, 40, 64, 64]       --                        --\n",
       "│    └─Conv3d: 2-1                       [8, 1, 40, 64, 64]        [8, 32, 40, 64, 64]       896                       [3, 3, 3]\n",
       "│    └─BatchNorm3d: 2-2                  [8, 32, 40, 64, 64]       [8, 32, 40, 64, 64]       64                        --\n",
       "│    └─ReLU: 2-3                         [8, 32, 40, 64, 64]       [8, 32, 40, 64, 64]       --                        --\n",
       "│    └─Conv3d: 2-4                       [8, 32, 40, 64, 64]       [8, 32, 40, 64, 64]       27,680                    [3, 3, 3]\n",
       "│    └─BatchNorm3d: 2-5                  [8, 32, 40, 64, 64]       [8, 32, 40, 64, 64]       64                        --\n",
       "│    └─ReLU: 2-6                         [8, 32, 40, 64, 64]       [8, 32, 40, 64, 64]       --                        --\n",
       "├─MaxPool3d: 1-2                         [8, 32, 40, 64, 64]       [8, 32, 20, 32, 32]       --                        2\n",
       "├─Sequential: 1-3                        [8, 32, 20, 32, 32]       [8, 64, 20, 32, 32]       --                        --\n",
       "│    └─Conv3d: 2-7                       [8, 32, 20, 32, 32]       [8, 64, 20, 32, 32]       55,360                    [3, 3, 3]\n",
       "│    └─BatchNorm3d: 2-8                  [8, 64, 20, 32, 32]       [8, 64, 20, 32, 32]       128                       --\n",
       "│    └─ReLU: 2-9                         [8, 64, 20, 32, 32]       [8, 64, 20, 32, 32]       --                        --\n",
       "│    └─Conv3d: 2-10                      [8, 64, 20, 32, 32]       [8, 64, 20, 32, 32]       110,656                   [3, 3, 3]\n",
       "│    └─BatchNorm3d: 2-11                 [8, 64, 20, 32, 32]       [8, 64, 20, 32, 32]       128                       --\n",
       "│    └─ReLU: 2-12                        [8, 64, 20, 32, 32]       [8, 64, 20, 32, 32]       --                        --\n",
       "├─MaxPool3d: 1-4                         [8, 64, 20, 32, 32]       [8, 64, 10, 16, 16]       --                        2\n",
       "├─Sequential: 1-5                        [8, 64, 10, 16, 16]       [8, 128, 10, 16, 16]      --                        --\n",
       "│    └─Conv3d: 2-13                      [8, 64, 10, 16, 16]       [8, 128, 10, 16, 16]      221,312                   [3, 3, 3]\n",
       "│    └─BatchNorm3d: 2-14                 [8, 128, 10, 16, 16]      [8, 128, 10, 16, 16]      256                       --\n",
       "│    └─ReLU: 2-15                        [8, 128, 10, 16, 16]      [8, 128, 10, 16, 16]      --                        --\n",
       "│    └─Conv3d: 2-16                      [8, 128, 10, 16, 16]      [8, 128, 10, 16, 16]      442,496                   [3, 3, 3]\n",
       "│    └─BatchNorm3d: 2-17                 [8, 128, 10, 16, 16]      [8, 128, 10, 16, 16]      256                       --\n",
       "│    └─ReLU: 2-18                        [8, 128, 10, 16, 16]      [8, 128, 10, 16, 16]      --                        --\n",
       "├─MaxPool3d: 1-6                         [8, 128, 10, 16, 16]      [8, 128, 5, 8, 8]         --                        2\n",
       "├─Sequential: 1-7                        [8, 128, 5, 8, 8]         [8, 256, 5, 8, 8]         --                        --\n",
       "│    └─Conv3d: 2-19                      [8, 128, 5, 8, 8]         [8, 256, 5, 8, 8]         884,992                   [3, 3, 3]\n",
       "│    └─BatchNorm3d: 2-20                 [8, 256, 5, 8, 8]         [8, 256, 5, 8, 8]         512                       --\n",
       "│    └─ReLU: 2-21                        [8, 256, 5, 8, 8]         [8, 256, 5, 8, 8]         --                        --\n",
       "│    └─Conv3d: 2-22                      [8, 256, 5, 8, 8]         [8, 256, 5, 8, 8]         1,769,728                 [3, 3, 3]\n",
       "│    └─BatchNorm3d: 2-23                 [8, 256, 5, 8, 8]         [8, 256, 5, 8, 8]         512                       --\n",
       "│    └─ReLU: 2-24                        [8, 256, 5, 8, 8]         [8, 256, 5, 8, 8]         --                        --\n",
       "├─ConvTranspose3d: 1-8                   [8, 256, 5, 8, 8]         [8, 128, 10, 16, 16]      262,272                   [2, 2, 2]\n",
       "├─Sequential: 1-9                        [8, 256, 10, 16, 16]      [8, 128, 10, 16, 16]      --                        --\n",
       "│    └─Conv3d: 2-25                      [8, 256, 10, 16, 16]      [8, 128, 10, 16, 16]      884,864                   [3, 3, 3]\n",
       "│    └─BatchNorm3d: 2-26                 [8, 128, 10, 16, 16]      [8, 128, 10, 16, 16]      256                       --\n",
       "│    └─ReLU: 2-27                        [8, 128, 10, 16, 16]      [8, 128, 10, 16, 16]      --                        --\n",
       "│    └─Conv3d: 2-28                      [8, 128, 10, 16, 16]      [8, 128, 10, 16, 16]      442,496                   [3, 3, 3]\n",
       "│    └─BatchNorm3d: 2-29                 [8, 128, 10, 16, 16]      [8, 128, 10, 16, 16]      256                       --\n",
       "│    └─ReLU: 2-30                        [8, 128, 10, 16, 16]      [8, 128, 10, 16, 16]      --                        --\n",
       "├─ConvTranspose3d: 1-10                  [8, 128, 10, 16, 16]      [8, 64, 20, 32, 32]       65,600                    [2, 2, 2]\n",
       "├─Sequential: 1-11                       [8, 128, 20, 32, 32]      [8, 64, 20, 32, 32]       --                        --\n",
       "│    └─Conv3d: 2-31                      [8, 128, 20, 32, 32]      [8, 64, 20, 32, 32]       221,248                   [3, 3, 3]\n",
       "│    └─BatchNorm3d: 2-32                 [8, 64, 20, 32, 32]       [8, 64, 20, 32, 32]       128                       --\n",
       "│    └─ReLU: 2-33                        [8, 64, 20, 32, 32]       [8, 64, 20, 32, 32]       --                        --\n",
       "│    └─Conv3d: 2-34                      [8, 64, 20, 32, 32]       [8, 64, 20, 32, 32]       110,656                   [3, 3, 3]\n",
       "│    └─BatchNorm3d: 2-35                 [8, 64, 20, 32, 32]       [8, 64, 20, 32, 32]       128                       --\n",
       "│    └─ReLU: 2-36                        [8, 64, 20, 32, 32]       [8, 64, 20, 32, 32]       --                        --\n",
       "├─ConvTranspose3d: 1-12                  [8, 64, 20, 32, 32]       [8, 32, 40, 64, 64]       16,416                    [2, 2, 2]\n",
       "├─Sequential: 1-13                       [8, 64, 40, 64, 64]       [8, 32, 40, 64, 64]       --                        --\n",
       "│    └─Conv3d: 2-37                      [8, 64, 40, 64, 64]       [8, 32, 40, 64, 64]       55,328                    [3, 3, 3]\n",
       "│    └─BatchNorm3d: 2-38                 [8, 32, 40, 64, 64]       [8, 32, 40, 64, 64]       64                        --\n",
       "│    └─ReLU: 2-39                        [8, 32, 40, 64, 64]       [8, 32, 40, 64, 64]       --                        --\n",
       "│    └─Conv3d: 2-40                      [8, 32, 40, 64, 64]       [8, 32, 40, 64, 64]       27,680                    [3, 3, 3]\n",
       "│    └─BatchNorm3d: 2-41                 [8, 32, 40, 64, 64]       [8, 32, 40, 64, 64]       64                        --\n",
       "│    └─ReLU: 2-42                        [8, 32, 40, 64, 64]       [8, 32, 40, 64, 64]       --                        --\n",
       "├─Conv3d: 1-14                           [8, 32, 40, 64, 64]       [8, 1, 40, 64, 64]        33                        [1, 1, 1]\n",
       "============================================================================================================================================\n",
       "Total params: 5,602,529\n",
       "Trainable params: 5,602,529\n",
       "Non-trainable params: 0\n",
       "Total mult-adds (G): 313.09\n",
       "============================================================================================================================================\n",
       "Input size (MB): 5.24\n",
       "Forward/backward pass size (MB): 3995.07\n",
       "Params size (MB): 22.41\n",
       "Estimated Total Size (MB): 4022.73\n",
       "============================================================================================================================================"
      ]
     },
     "execution_count": 3,
     "metadata": {},
     "output_type": "execute_result"
    }
   ],
   "source": [
    "\n",
    "class UNet3D(nn.Module):\n",
    "    def __init__(self, in_channels=1, out_channels=1, init_features=32):\n",
    "        super(UNet3D, self).__init__()\n",
    "\n",
    "        features = init_features\n",
    "        self.encoder1 = self._block(in_channels, features)\n",
    "        self.pool1 = nn.MaxPool3d(kernel_size=2)\n",
    "\n",
    "        self.encoder2 = self._block(features, features * 2)\n",
    "        self.pool2 = nn.MaxPool3d(kernel_size=2)\n",
    "\n",
    "        self.encoder3 = self._block(features * 2, features * 4)\n",
    "        self.pool3 = nn.MaxPool3d(kernel_size=2)\n",
    "\n",
    "        self.bottleneck = self._block(features * 4, features * 8)\n",
    "\n",
    "        self.upconv3 = nn.ConvTranspose3d(features * 8, features * 4, kernel_size=2, stride=2)\n",
    "        self.decoder3 = self._block(features * 8, features * 4)\n",
    "\n",
    "        self.upconv2 = nn.ConvTranspose3d(features * 4, features * 2, kernel_size=2, stride=2)\n",
    "        self.decoder2 = self._block(features * 4, features * 2)\n",
    "\n",
    "        self.upconv1 = nn.ConvTranspose3d(features * 2, features, kernel_size=2, stride=2)\n",
    "        self.decoder1 = self._block(features * 2, features)\n",
    "\n",
    "        self.output_conv = nn.Conv3d(features, out_channels, kernel_size=1)\n",
    "\n",
    "    def forward(self, x):\n",
    "        enc1 = self.encoder1(x)\n",
    "        enc2 = self.encoder2(self.pool1(enc1))\n",
    "        enc3 = self.encoder3(self.pool2(enc2))\n",
    "\n",
    "        bottleneck = self.bottleneck(self.pool3(enc3))\n",
    "\n",
    "        dec3 = self.upconv3(bottleneck)\n",
    "        dec3 = torch.cat((dec3, enc3), dim=1)\n",
    "        dec3 = self.decoder3(dec3)\n",
    "\n",
    "        dec2 = self.upconv2(dec3)\n",
    "        dec2 = torch.cat((dec2, enc2), dim=1)\n",
    "        dec2 = self.decoder2(dec2)\n",
    "\n",
    "        dec1 = self.upconv1(dec2)\n",
    "        dec1 = torch.cat((dec1, enc1), dim=1)\n",
    "        dec1 = self.decoder1(dec1)\n",
    "\n",
    "        return self.output_conv(dec1)\n",
    "\n",
    "    def _block(self, in_channels, out_channels):\n",
    "        return nn.Sequential(\n",
    "            nn.Conv3d(in_channels, out_channels, kernel_size=3, padding=1),\n",
    "            nn.BatchNorm3d(out_channels),\n",
    "            nn.ReLU(inplace=True),\n",
    "            nn.Conv3d(out_channels, out_channels, kernel_size=3, padding=1),\n",
    "            nn.BatchNorm3d(out_channels),\n",
    "            nn.ReLU(inplace=True),\n",
    "        )\n",
    "\n",
    "\n",
    "model = UNet3D(in_channels=1, out_channels=1).to(device)\n",
    "print(\"✅ 3D U-Net model initialized and moved to device.\")\n",
    "\n",
    "\n",
    "\n",
    "summary(model, input_size=(8, 1, 40, 64, 64), col_names=[\"input_size\", \"output_size\", \"num_params\", \"kernel_size\"])"
   ]
  },
  {
   "cell_type": "code",
   "execution_count": null,
   "id": "b8f7172e-c42b-43a9-b9e9-ce2d51e2d06c",
   "metadata": {},
   "outputs": [],
   "source": [
    "\n",
    "criterion = nn.MSELoss()\n",
    "optimizer = torch.optim.Adam(model.parameters(), lr=config['learning_rate'])\n",
    "scheduler = torch.optim.lr_scheduler.StepLR(optimizer, step_size=10, gamma=0.5) "
   ]
  },
  {
   "cell_type": "code",
   "execution_count": null,
   "id": "968b84de-ed4b-48ed-aade-4e9ef6238754",
   "metadata": {
    "scrolled": true
   },
   "outputs": [
    {
     "name": "stderr",
     "output_type": "stream",
     "text": [
      "Epoch [1/50]:   0%|                                    | 0/1500 [00:00<?, ?it/s]/home/faisal/MLprojects/fMRI-LOADING/fMRI_dataloader/chunked_dataset.py:39: UserWarning: The given NumPy array is not writable, and PyTorch does not support non-writable tensors. This means writing to this tensor will result in undefined behavior. You may want to copy the array to protect its data or make it writable before converting it to a tensor. This type of warning will be suppressed for the rest of this program. (Triggered internally at ../torch/csrc/utils/tensor_numpy.cpp:206.)\n",
      "  \"clean\": torch.from_numpy(clean).unsqueeze(0).float(),\n",
      "/home/faisal/MLprojects/fMRI-LOADING/fMRI_dataloader/chunked_dataset.py:39: UserWarning: The given NumPy array is not writable, and PyTorch does not support non-writable tensors. This means writing to this tensor will result in undefined behavior. You may want to copy the array to protect its data or make it writable before converting it to a tensor. This type of warning will be suppressed for the rest of this program. (Triggered internally at ../torch/csrc/utils/tensor_numpy.cpp:206.)\n",
      "  \"clean\": torch.from_numpy(clean).unsqueeze(0).float(),\n",
      "                                                                                \r"
     ]
    },
    {
     "name": "stdout",
     "output_type": "stream",
     "text": [
      "📉 Epoch 1: Avg Loss = 0.002515\n",
      "✅ Best model updated at epoch 1 with loss 0.002515\n"
     ]
    },
    {
     "name": "stderr",
     "output_type": "stream",
     "text": [
      "Epoch [2/50]:   0%|                                    | 0/1500 [00:00<?, ?it/s]/home/faisal/MLprojects/fMRI-LOADING/fMRI_dataloader/chunked_dataset.py:39: UserWarning: The given NumPy array is not writable, and PyTorch does not support non-writable tensors. This means writing to this tensor will result in undefined behavior. You may want to copy the array to protect its data or make it writable before converting it to a tensor. This type of warning will be suppressed for the rest of this program. (Triggered internally at ../torch/csrc/utils/tensor_numpy.cpp:206.)\n",
      "  \"clean\": torch.from_numpy(clean).unsqueeze(0).float(),\n",
      "/home/faisal/MLprojects/fMRI-LOADING/fMRI_dataloader/chunked_dataset.py:39: UserWarning: The given NumPy array is not writable, and PyTorch does not support non-writable tensors. This means writing to this tensor will result in undefined behavior. You may want to copy the array to protect its data or make it writable before converting it to a tensor. This type of warning will be suppressed for the rest of this program. (Triggered internally at ../torch/csrc/utils/tensor_numpy.cpp:206.)\n",
      "  \"clean\": torch.from_numpy(clean).unsqueeze(0).float(),\n",
      "                                                                                \r"
     ]
    },
    {
     "name": "stdout",
     "output_type": "stream",
     "text": [
      "📉 Epoch 2: Avg Loss = 0.000396\n",
      "✅ Best model updated at epoch 2 with loss 0.000396\n"
     ]
    },
    {
     "name": "stderr",
     "output_type": "stream",
     "text": [
      "Epoch [3/50]:   0%|                                    | 0/1500 [00:00<?, ?it/s]/home/faisal/MLprojects/fMRI-LOADING/fMRI_dataloader/chunked_dataset.py:39: UserWarning: The given NumPy array is not writable, and PyTorch does not support non-writable tensors. This means writing to this tensor will result in undefined behavior. You may want to copy the array to protect its data or make it writable before converting it to a tensor. This type of warning will be suppressed for the rest of this program. (Triggered internally at ../torch/csrc/utils/tensor_numpy.cpp:206.)\n",
      "  \"clean\": torch.from_numpy(clean).unsqueeze(0).float(),\n",
      "/home/faisal/MLprojects/fMRI-LOADING/fMRI_dataloader/chunked_dataset.py:39: UserWarning: The given NumPy array is not writable, and PyTorch does not support non-writable tensors. This means writing to this tensor will result in undefined behavior. You may want to copy the array to protect its data or make it writable before converting it to a tensor. This type of warning will be suppressed for the rest of this program. (Triggered internally at ../torch/csrc/utils/tensor_numpy.cpp:206.)\n",
      "  \"clean\": torch.from_numpy(clean).unsqueeze(0).float(),\n",
      "                                                                                \r"
     ]
    },
    {
     "name": "stdout",
     "output_type": "stream",
     "text": [
      "📉 Epoch 3: Avg Loss = 0.000272\n",
      "✅ Best model updated at epoch 3 with loss 0.000272\n"
     ]
    },
    {
     "name": "stderr",
     "output_type": "stream",
     "text": [
      "Epoch [4/50]:   0%|                                    | 0/1500 [00:00<?, ?it/s]/home/faisal/MLprojects/fMRI-LOADING/fMRI_dataloader/chunked_dataset.py:39: UserWarning: The given NumPy array is not writable, and PyTorch does not support non-writable tensors. This means writing to this tensor will result in undefined behavior. You may want to copy the array to protect its data or make it writable before converting it to a tensor. This type of warning will be suppressed for the rest of this program. (Triggered internally at ../torch/csrc/utils/tensor_numpy.cpp:206.)\n",
      "  \"clean\": torch.from_numpy(clean).unsqueeze(0).float(),\n",
      "/home/faisal/MLprojects/fMRI-LOADING/fMRI_dataloader/chunked_dataset.py:39: UserWarning: The given NumPy array is not writable, and PyTorch does not support non-writable tensors. This means writing to this tensor will result in undefined behavior. You may want to copy the array to protect its data or make it writable before converting it to a tensor. This type of warning will be suppressed for the rest of this program. (Triggered internally at ../torch/csrc/utils/tensor_numpy.cpp:206.)\n",
      "  \"clean\": torch.from_numpy(clean).unsqueeze(0).float(),\n",
      "                                                                                \r"
     ]
    },
    {
     "name": "stdout",
     "output_type": "stream",
     "text": [
      "📉 Epoch 4: Avg Loss = 0.000199\n",
      "✅ Best model updated at epoch 4 with loss 0.000199\n"
     ]
    },
    {
     "name": "stderr",
     "output_type": "stream",
     "text": [
      "Epoch [5/50]:   0%|                                    | 0/1500 [00:00<?, ?it/s]/home/faisal/MLprojects/fMRI-LOADING/fMRI_dataloader/chunked_dataset.py:39: UserWarning: The given NumPy array is not writable, and PyTorch does not support non-writable tensors. This means writing to this tensor will result in undefined behavior. You may want to copy the array to protect its data or make it writable before converting it to a tensor. This type of warning will be suppressed for the rest of this program. (Triggered internally at ../torch/csrc/utils/tensor_numpy.cpp:206.)\n",
      "  \"clean\": torch.from_numpy(clean).unsqueeze(0).float(),\n",
      "/home/faisal/MLprojects/fMRI-LOADING/fMRI_dataloader/chunked_dataset.py:39: UserWarning: The given NumPy array is not writable, and PyTorch does not support non-writable tensors. This means writing to this tensor will result in undefined behavior. You may want to copy the array to protect its data or make it writable before converting it to a tensor. This type of warning will be suppressed for the rest of this program. (Triggered internally at ../torch/csrc/utils/tensor_numpy.cpp:206.)\n",
      "  \"clean\": torch.from_numpy(clean).unsqueeze(0).float(),\n",
      "                                                                                \r"
     ]
    },
    {
     "name": "stdout",
     "output_type": "stream",
     "text": [
      "📉 Epoch 5: Avg Loss = 0.000162\n",
      "✅ Best model updated at epoch 5 with loss 0.000162\n"
     ]
    },
    {
     "name": "stderr",
     "output_type": "stream",
     "text": [
      "Epoch [6/50]:   0%|                                    | 0/1500 [00:00<?, ?it/s]/home/faisal/MLprojects/fMRI-LOADING/fMRI_dataloader/chunked_dataset.py:39: UserWarning: The given NumPy array is not writable, and PyTorch does not support non-writable tensors. This means writing to this tensor will result in undefined behavior. You may want to copy the array to protect its data or make it writable before converting it to a tensor. This type of warning will be suppressed for the rest of this program. (Triggered internally at ../torch/csrc/utils/tensor_numpy.cpp:206.)\n",
      "  \"clean\": torch.from_numpy(clean).unsqueeze(0).float(),\n",
      "/home/faisal/MLprojects/fMRI-LOADING/fMRI_dataloader/chunked_dataset.py:39: UserWarning: The given NumPy array is not writable, and PyTorch does not support non-writable tensors. This means writing to this tensor will result in undefined behavior. You may want to copy the array to protect its data or make it writable before converting it to a tensor. This type of warning will be suppressed for the rest of this program. (Triggered internally at ../torch/csrc/utils/tensor_numpy.cpp:206.)\n",
      "  \"clean\": torch.from_numpy(clean).unsqueeze(0).float(),\n",
      "                                                                                \r"
     ]
    },
    {
     "name": "stdout",
     "output_type": "stream",
     "text": [
      "📉 Epoch 6: Avg Loss = 0.000141\n",
      "✅ Best model updated at epoch 6 with loss 0.000141\n"
     ]
    },
    {
     "name": "stderr",
     "output_type": "stream",
     "text": [
      "Epoch [7/50]:   0%|                                    | 0/1500 [00:00<?, ?it/s]/home/faisal/MLprojects/fMRI-LOADING/fMRI_dataloader/chunked_dataset.py:39: UserWarning: The given NumPy array is not writable, and PyTorch does not support non-writable tensors. This means writing to this tensor will result in undefined behavior. You may want to copy the array to protect its data or make it writable before converting it to a tensor. This type of warning will be suppressed for the rest of this program. (Triggered internally at ../torch/csrc/utils/tensor_numpy.cpp:206.)\n",
      "  \"clean\": torch.from_numpy(clean).unsqueeze(0).float(),\n",
      "/home/faisal/MLprojects/fMRI-LOADING/fMRI_dataloader/chunked_dataset.py:39: UserWarning: The given NumPy array is not writable, and PyTorch does not support non-writable tensors. This means writing to this tensor will result in undefined behavior. You may want to copy the array to protect its data or make it writable before converting it to a tensor. This type of warning will be suppressed for the rest of this program. (Triggered internally at ../torch/csrc/utils/tensor_numpy.cpp:206.)\n",
      "  \"clean\": torch.from_numpy(clean).unsqueeze(0).float(),\n",
      "                                                                                \r"
     ]
    },
    {
     "name": "stdout",
     "output_type": "stream",
     "text": [
      "📉 Epoch 7: Avg Loss = 0.000127\n",
      "✅ Best model updated at epoch 7 with loss 0.000127\n"
     ]
    },
    {
     "name": "stderr",
     "output_type": "stream",
     "text": [
      "Epoch [8/50]:   0%|                                    | 0/1500 [00:00<?, ?it/s]/home/faisal/MLprojects/fMRI-LOADING/fMRI_dataloader/chunked_dataset.py:39: UserWarning: The given NumPy array is not writable, and PyTorch does not support non-writable tensors. This means writing to this tensor will result in undefined behavior. You may want to copy the array to protect its data or make it writable before converting it to a tensor. This type of warning will be suppressed for the rest of this program. (Triggered internally at ../torch/csrc/utils/tensor_numpy.cpp:206.)\n",
      "  \"clean\": torch.from_numpy(clean).unsqueeze(0).float(),\n",
      "/home/faisal/MLprojects/fMRI-LOADING/fMRI_dataloader/chunked_dataset.py:39: UserWarning: The given NumPy array is not writable, and PyTorch does not support non-writable tensors. This means writing to this tensor will result in undefined behavior. You may want to copy the array to protect its data or make it writable before converting it to a tensor. This type of warning will be suppressed for the rest of this program. (Triggered internally at ../torch/csrc/utils/tensor_numpy.cpp:206.)\n",
      "  \"clean\": torch.from_numpy(clean).unsqueeze(0).float(),\n",
      "                                                                                \r"
     ]
    },
    {
     "name": "stdout",
     "output_type": "stream",
     "text": [
      "📉 Epoch 8: Avg Loss = 0.000112\n",
      "✅ Best model updated at epoch 8 with loss 0.000112\n"
     ]
    },
    {
     "name": "stderr",
     "output_type": "stream",
     "text": [
      "Epoch [9/50]:   0%|                                    | 0/1500 [00:00<?, ?it/s]/home/faisal/MLprojects/fMRI-LOADING/fMRI_dataloader/chunked_dataset.py:39: UserWarning: The given NumPy array is not writable, and PyTorch does not support non-writable tensors. This means writing to this tensor will result in undefined behavior. You may want to copy the array to protect its data or make it writable before converting it to a tensor. This type of warning will be suppressed for the rest of this program. (Triggered internally at ../torch/csrc/utils/tensor_numpy.cpp:206.)\n",
      "  \"clean\": torch.from_numpy(clean).unsqueeze(0).float(),\n",
      "/home/faisal/MLprojects/fMRI-LOADING/fMRI_dataloader/chunked_dataset.py:39: UserWarning: The given NumPy array is not writable, and PyTorch does not support non-writable tensors. This means writing to this tensor will result in undefined behavior. You may want to copy the array to protect its data or make it writable before converting it to a tensor. This type of warning will be suppressed for the rest of this program. (Triggered internally at ../torch/csrc/utils/tensor_numpy.cpp:206.)\n",
      "  \"clean\": torch.from_numpy(clean).unsqueeze(0).float(),\n",
      "                                                                                \r"
     ]
    },
    {
     "name": "stdout",
     "output_type": "stream",
     "text": [
      "📉 Epoch 9: Avg Loss = 0.000103\n",
      "✅ Best model updated at epoch 9 with loss 0.000103\n"
     ]
    },
    {
     "name": "stderr",
     "output_type": "stream",
     "text": [
      "Epoch [10/50]:   0%|                                   | 0/1500 [00:00<?, ?it/s]/home/faisal/MLprojects/fMRI-LOADING/fMRI_dataloader/chunked_dataset.py:39: UserWarning: The given NumPy array is not writable, and PyTorch does not support non-writable tensors. This means writing to this tensor will result in undefined behavior. You may want to copy the array to protect its data or make it writable before converting it to a tensor. This type of warning will be suppressed for the rest of this program. (Triggered internally at ../torch/csrc/utils/tensor_numpy.cpp:206.)\n",
      "  \"clean\": torch.from_numpy(clean).unsqueeze(0).float(),\n",
      "/home/faisal/MLprojects/fMRI-LOADING/fMRI_dataloader/chunked_dataset.py:39: UserWarning: The given NumPy array is not writable, and PyTorch does not support non-writable tensors. This means writing to this tensor will result in undefined behavior. You may want to copy the array to protect its data or make it writable before converting it to a tensor. This type of warning will be suppressed for the rest of this program. (Triggered internally at ../torch/csrc/utils/tensor_numpy.cpp:206.)\n",
      "  \"clean\": torch.from_numpy(clean).unsqueeze(0).float(),\n",
      "                                                                                \r"
     ]
    },
    {
     "name": "stdout",
     "output_type": "stream",
     "text": [
      "📉 Epoch 10: Avg Loss = 0.000101\n",
      "✅ Best model updated at epoch 10 with loss 0.000101\n"
     ]
    },
    {
     "name": "stderr",
     "output_type": "stream",
     "text": [
      "Epoch [11/50]:   0%|                                   | 0/1500 [00:00<?, ?it/s]/home/faisal/MLprojects/fMRI-LOADING/fMRI_dataloader/chunked_dataset.py:39: UserWarning: The given NumPy array is not writable, and PyTorch does not support non-writable tensors. This means writing to this tensor will result in undefined behavior. You may want to copy the array to protect its data or make it writable before converting it to a tensor. This type of warning will be suppressed for the rest of this program. (Triggered internally at ../torch/csrc/utils/tensor_numpy.cpp:206.)\n",
      "  \"clean\": torch.from_numpy(clean).unsqueeze(0).float(),\n",
      "/home/faisal/MLprojects/fMRI-LOADING/fMRI_dataloader/chunked_dataset.py:39: UserWarning: The given NumPy array is not writable, and PyTorch does not support non-writable tensors. This means writing to this tensor will result in undefined behavior. You may want to copy the array to protect its data or make it writable before converting it to a tensor. This type of warning will be suppressed for the rest of this program. (Triggered internally at ../torch/csrc/utils/tensor_numpy.cpp:206.)\n",
      "  \"clean\": torch.from_numpy(clean).unsqueeze(0).float(),\n",
      "                                                                                \r"
     ]
    },
    {
     "name": "stdout",
     "output_type": "stream",
     "text": [
      "📉 Epoch 11: Avg Loss = 0.000081\n",
      "✅ Best model updated at epoch 11 with loss 0.000081\n"
     ]
    },
    {
     "name": "stderr",
     "output_type": "stream",
     "text": [
      "Epoch [12/50]:   0%|                                   | 0/1500 [00:00<?, ?it/s]/home/faisal/MLprojects/fMRI-LOADING/fMRI_dataloader/chunked_dataset.py:39: UserWarning: The given NumPy array is not writable, and PyTorch does not support non-writable tensors. This means writing to this tensor will result in undefined behavior. You may want to copy the array to protect its data or make it writable before converting it to a tensor. This type of warning will be suppressed for the rest of this program. (Triggered internally at ../torch/csrc/utils/tensor_numpy.cpp:206.)\n",
      "  \"clean\": torch.from_numpy(clean).unsqueeze(0).float(),\n",
      "/home/faisal/MLprojects/fMRI-LOADING/fMRI_dataloader/chunked_dataset.py:39: UserWarning: The given NumPy array is not writable, and PyTorch does not support non-writable tensors. This means writing to this tensor will result in undefined behavior. You may want to copy the array to protect its data or make it writable before converting it to a tensor. This type of warning will be suppressed for the rest of this program. (Triggered internally at ../torch/csrc/utils/tensor_numpy.cpp:206.)\n",
      "  \"clean\": torch.from_numpy(clean).unsqueeze(0).float(),\n",
      "                                                                                \r"
     ]
    },
    {
     "name": "stdout",
     "output_type": "stream",
     "text": [
      "📉 Epoch 12: Avg Loss = 0.000079\n",
      "✅ Best model updated at epoch 12 with loss 0.000079\n"
     ]
    },
    {
     "name": "stderr",
     "output_type": "stream",
     "text": [
      "Epoch [13/50]:   0%|                                   | 0/1500 [00:00<?, ?it/s]/home/faisal/MLprojects/fMRI-LOADING/fMRI_dataloader/chunked_dataset.py:39: UserWarning: The given NumPy array is not writable, and PyTorch does not support non-writable tensors. This means writing to this tensor will result in undefined behavior. You may want to copy the array to protect its data or make it writable before converting it to a tensor. This type of warning will be suppressed for the rest of this program. (Triggered internally at ../torch/csrc/utils/tensor_numpy.cpp:206.)\n",
      "  \"clean\": torch.from_numpy(clean).unsqueeze(0).float(),\n",
      "/home/faisal/MLprojects/fMRI-LOADING/fMRI_dataloader/chunked_dataset.py:39: UserWarning: The given NumPy array is not writable, and PyTorch does not support non-writable tensors. This means writing to this tensor will result in undefined behavior. You may want to copy the array to protect its data or make it writable before converting it to a tensor. This type of warning will be suppressed for the rest of this program. (Triggered internally at ../torch/csrc/utils/tensor_numpy.cpp:206.)\n",
      "  \"clean\": torch.from_numpy(clean).unsqueeze(0).float(),\n",
      "                                                                                \r"
     ]
    },
    {
     "name": "stdout",
     "output_type": "stream",
     "text": [
      "📉 Epoch 13: Avg Loss = 0.000078\n",
      "✅ Best model updated at epoch 13 with loss 0.000078\n"
     ]
    },
    {
     "name": "stderr",
     "output_type": "stream",
     "text": [
      "Epoch [14/50]:   0%|                                   | 0/1500 [00:00<?, ?it/s]/home/faisal/MLprojects/fMRI-LOADING/fMRI_dataloader/chunked_dataset.py:39: UserWarning: The given NumPy array is not writable, and PyTorch does not support non-writable tensors. This means writing to this tensor will result in undefined behavior. You may want to copy the array to protect its data or make it writable before converting it to a tensor. This type of warning will be suppressed for the rest of this program. (Triggered internally at ../torch/csrc/utils/tensor_numpy.cpp:206.)\n",
      "  \"clean\": torch.from_numpy(clean).unsqueeze(0).float(),\n",
      "/home/faisal/MLprojects/fMRI-LOADING/fMRI_dataloader/chunked_dataset.py:39: UserWarning: The given NumPy array is not writable, and PyTorch does not support non-writable tensors. This means writing to this tensor will result in undefined behavior. You may want to copy the array to protect its data or make it writable before converting it to a tensor. This type of warning will be suppressed for the rest of this program. (Triggered internally at ../torch/csrc/utils/tensor_numpy.cpp:206.)\n",
      "  \"clean\": torch.from_numpy(clean).unsqueeze(0).float(),\n",
      "                                                                                \r"
     ]
    },
    {
     "name": "stdout",
     "output_type": "stream",
     "text": [
      "📉 Epoch 14: Avg Loss = 0.000074\n",
      "✅ Best model updated at epoch 14 with loss 0.000074\n"
     ]
    },
    {
     "name": "stderr",
     "output_type": "stream",
     "text": [
      "Epoch [15/50]:   0%|                                   | 0/1500 [00:00<?, ?it/s]/home/faisal/MLprojects/fMRI-LOADING/fMRI_dataloader/chunked_dataset.py:39: UserWarning: The given NumPy array is not writable, and PyTorch does not support non-writable tensors. This means writing to this tensor will result in undefined behavior. You may want to copy the array to protect its data or make it writable before converting it to a tensor. This type of warning will be suppressed for the rest of this program. (Triggered internally at ../torch/csrc/utils/tensor_numpy.cpp:206.)\n",
      "  \"clean\": torch.from_numpy(clean).unsqueeze(0).float(),\n",
      "/home/faisal/MLprojects/fMRI-LOADING/fMRI_dataloader/chunked_dataset.py:39: UserWarning: The given NumPy array is not writable, and PyTorch does not support non-writable tensors. This means writing to this tensor will result in undefined behavior. You may want to copy the array to protect its data or make it writable before converting it to a tensor. This type of warning will be suppressed for the rest of this program. (Triggered internally at ../torch/csrc/utils/tensor_numpy.cpp:206.)\n",
      "  \"clean\": torch.from_numpy(clean).unsqueeze(0).float(),\n",
      "                                                                                \r"
     ]
    },
    {
     "name": "stdout",
     "output_type": "stream",
     "text": [
      "📉 Epoch 15: Avg Loss = 0.000073\n",
      "✅ Best model updated at epoch 15 with loss 0.000073\n"
     ]
    },
    {
     "name": "stderr",
     "output_type": "stream",
     "text": [
      "Epoch [16/50]:   0%|                                   | 0/1500 [00:00<?, ?it/s]/home/faisal/MLprojects/fMRI-LOADING/fMRI_dataloader/chunked_dataset.py:39: UserWarning: The given NumPy array is not writable, and PyTorch does not support non-writable tensors. This means writing to this tensor will result in undefined behavior. You may want to copy the array to protect its data or make it writable before converting it to a tensor. This type of warning will be suppressed for the rest of this program. (Triggered internally at ../torch/csrc/utils/tensor_numpy.cpp:206.)\n",
      "  \"clean\": torch.from_numpy(clean).unsqueeze(0).float(),\n",
      "/home/faisal/MLprojects/fMRI-LOADING/fMRI_dataloader/chunked_dataset.py:39: UserWarning: The given NumPy array is not writable, and PyTorch does not support non-writable tensors. This means writing to this tensor will result in undefined behavior. You may want to copy the array to protect its data or make it writable before converting it to a tensor. This type of warning will be suppressed for the rest of this program. (Triggered internally at ../torch/csrc/utils/tensor_numpy.cpp:206.)\n",
      "  \"clean\": torch.from_numpy(clean).unsqueeze(0).float(),\n",
      "                                                                                \r"
     ]
    },
    {
     "name": "stdout",
     "output_type": "stream",
     "text": [
      "📉 Epoch 16: Avg Loss = 0.000071\n",
      "✅ Best model updated at epoch 16 with loss 0.000071\n"
     ]
    },
    {
     "name": "stderr",
     "output_type": "stream",
     "text": [
      "Epoch [17/50]:   0%|                                   | 0/1500 [00:00<?, ?it/s]/home/faisal/MLprojects/fMRI-LOADING/fMRI_dataloader/chunked_dataset.py:39: UserWarning: The given NumPy array is not writable, and PyTorch does not support non-writable tensors. This means writing to this tensor will result in undefined behavior. You may want to copy the array to protect its data or make it writable before converting it to a tensor. This type of warning will be suppressed for the rest of this program. (Triggered internally at ../torch/csrc/utils/tensor_numpy.cpp:206.)\n",
      "  \"clean\": torch.from_numpy(clean).unsqueeze(0).float(),\n",
      "/home/faisal/MLprojects/fMRI-LOADING/fMRI_dataloader/chunked_dataset.py:39: UserWarning: The given NumPy array is not writable, and PyTorch does not support non-writable tensors. This means writing to this tensor will result in undefined behavior. You may want to copy the array to protect its data or make it writable before converting it to a tensor. This type of warning will be suppressed for the rest of this program. (Triggered internally at ../torch/csrc/utils/tensor_numpy.cpp:206.)\n",
      "  \"clean\": torch.from_numpy(clean).unsqueeze(0).float(),\n",
      "                                                                                \r"
     ]
    },
    {
     "name": "stdout",
     "output_type": "stream",
     "text": [
      "📉 Epoch 17: Avg Loss = 0.000072\n"
     ]
    },
    {
     "name": "stderr",
     "output_type": "stream",
     "text": [
      "Epoch [18/50]:   0%|                                   | 0/1500 [00:00<?, ?it/s]/home/faisal/MLprojects/fMRI-LOADING/fMRI_dataloader/chunked_dataset.py:39: UserWarning: The given NumPy array is not writable, and PyTorch does not support non-writable tensors. This means writing to this tensor will result in undefined behavior. You may want to copy the array to protect its data or make it writable before converting it to a tensor. This type of warning will be suppressed for the rest of this program. (Triggered internally at ../torch/csrc/utils/tensor_numpy.cpp:206.)\n",
      "  \"clean\": torch.from_numpy(clean).unsqueeze(0).float(),\n",
      "/home/faisal/MLprojects/fMRI-LOADING/fMRI_dataloader/chunked_dataset.py:39: UserWarning: The given NumPy array is not writable, and PyTorch does not support non-writable tensors. This means writing to this tensor will result in undefined behavior. You may want to copy the array to protect its data or make it writable before converting it to a tensor. This type of warning will be suppressed for the rest of this program. (Triggered internally at ../torch/csrc/utils/tensor_numpy.cpp:206.)\n",
      "  \"clean\": torch.from_numpy(clean).unsqueeze(0).float(),\n",
      "                                                                                \r"
     ]
    },
    {
     "name": "stdout",
     "output_type": "stream",
     "text": [
      "📉 Epoch 18: Avg Loss = 0.000069\n",
      "✅ Best model updated at epoch 18 with loss 0.000069\n"
     ]
    },
    {
     "name": "stderr",
     "output_type": "stream",
     "text": [
      "Epoch [19/50]:   0%|                                   | 0/1500 [00:00<?, ?it/s]/home/faisal/MLprojects/fMRI-LOADING/fMRI_dataloader/chunked_dataset.py:39: UserWarning: The given NumPy array is not writable, and PyTorch does not support non-writable tensors. This means writing to this tensor will result in undefined behavior. You may want to copy the array to protect its data or make it writable before converting it to a tensor. This type of warning will be suppressed for the rest of this program. (Triggered internally at ../torch/csrc/utils/tensor_numpy.cpp:206.)\n",
      "  \"clean\": torch.from_numpy(clean).unsqueeze(0).float(),\n",
      "/home/faisal/MLprojects/fMRI-LOADING/fMRI_dataloader/chunked_dataset.py:39: UserWarning: The given NumPy array is not writable, and PyTorch does not support non-writable tensors. This means writing to this tensor will result in undefined behavior. You may want to copy the array to protect its data or make it writable before converting it to a tensor. This type of warning will be suppressed for the rest of this program. (Triggered internally at ../torch/csrc/utils/tensor_numpy.cpp:206.)\n",
      "  \"clean\": torch.from_numpy(clean).unsqueeze(0).float(),\n",
      "                                                                                \r"
     ]
    },
    {
     "name": "stdout",
     "output_type": "stream",
     "text": [
      "📉 Epoch 19: Avg Loss = 0.000067\n",
      "✅ Best model updated at epoch 19 with loss 0.000067\n"
     ]
    },
    {
     "name": "stderr",
     "output_type": "stream",
     "text": [
      "Epoch [20/50]:   0%|                                   | 0/1500 [00:00<?, ?it/s]/home/faisal/MLprojects/fMRI-LOADING/fMRI_dataloader/chunked_dataset.py:39: UserWarning: The given NumPy array is not writable, and PyTorch does not support non-writable tensors. This means writing to this tensor will result in undefined behavior. You may want to copy the array to protect its data or make it writable before converting it to a tensor. This type of warning will be suppressed for the rest of this program. (Triggered internally at ../torch/csrc/utils/tensor_numpy.cpp:206.)\n",
      "  \"clean\": torch.from_numpy(clean).unsqueeze(0).float(),\n",
      "/home/faisal/MLprojects/fMRI-LOADING/fMRI_dataloader/chunked_dataset.py:39: UserWarning: The given NumPy array is not writable, and PyTorch does not support non-writable tensors. This means writing to this tensor will result in undefined behavior. You may want to copy the array to protect its data or make it writable before converting it to a tensor. This type of warning will be suppressed for the rest of this program. (Triggered internally at ../torch/csrc/utils/tensor_numpy.cpp:206.)\n",
      "  \"clean\": torch.from_numpy(clean).unsqueeze(0).float(),\n",
      "                                                                                \r"
     ]
    },
    {
     "name": "stdout",
     "output_type": "stream",
     "text": [
      "📉 Epoch 20: Avg Loss = 0.000067\n"
     ]
    },
    {
     "name": "stderr",
     "output_type": "stream",
     "text": [
      "Epoch [21/50]:   0%|                                   | 0/1500 [00:00<?, ?it/s]/home/faisal/MLprojects/fMRI-LOADING/fMRI_dataloader/chunked_dataset.py:39: UserWarning: The given NumPy array is not writable, and PyTorch does not support non-writable tensors. This means writing to this tensor will result in undefined behavior. You may want to copy the array to protect its data or make it writable before converting it to a tensor. This type of warning will be suppressed for the rest of this program. (Triggered internally at ../torch/csrc/utils/tensor_numpy.cpp:206.)\n",
      "  \"clean\": torch.from_numpy(clean).unsqueeze(0).float(),\n",
      "/home/faisal/MLprojects/fMRI-LOADING/fMRI_dataloader/chunked_dataset.py:39: UserWarning: The given NumPy array is not writable, and PyTorch does not support non-writable tensors. This means writing to this tensor will result in undefined behavior. You may want to copy the array to protect its data or make it writable before converting it to a tensor. This type of warning will be suppressed for the rest of this program. (Triggered internally at ../torch/csrc/utils/tensor_numpy.cpp:206.)\n",
      "  \"clean\": torch.from_numpy(clean).unsqueeze(0).float(),\n",
      "                                                                                \r"
     ]
    },
    {
     "name": "stdout",
     "output_type": "stream",
     "text": [
      "📉 Epoch 21: Avg Loss = 0.000059\n",
      "✅ Best model updated at epoch 21 with loss 0.000059\n"
     ]
    },
    {
     "name": "stderr",
     "output_type": "stream",
     "text": [
      "Epoch [22/50]:   0%|                                   | 0/1500 [00:00<?, ?it/s]/home/faisal/MLprojects/fMRI-LOADING/fMRI_dataloader/chunked_dataset.py:39: UserWarning: The given NumPy array is not writable, and PyTorch does not support non-writable tensors. This means writing to this tensor will result in undefined behavior. You may want to copy the array to protect its data or make it writable before converting it to a tensor. This type of warning will be suppressed for the rest of this program. (Triggered internally at ../torch/csrc/utils/tensor_numpy.cpp:206.)\n",
      "  \"clean\": torch.from_numpy(clean).unsqueeze(0).float(),\n",
      "/home/faisal/MLprojects/fMRI-LOADING/fMRI_dataloader/chunked_dataset.py:39: UserWarning: The given NumPy array is not writable, and PyTorch does not support non-writable tensors. This means writing to this tensor will result in undefined behavior. You may want to copy the array to protect its data or make it writable before converting it to a tensor. This type of warning will be suppressed for the rest of this program. (Triggered internally at ../torch/csrc/utils/tensor_numpy.cpp:206.)\n",
      "  \"clean\": torch.from_numpy(clean).unsqueeze(0).float(),\n",
      "                                                                                \r"
     ]
    },
    {
     "name": "stdout",
     "output_type": "stream",
     "text": [
      "📉 Epoch 22: Avg Loss = 0.000058\n",
      "✅ Best model updated at epoch 22 with loss 0.000058\n"
     ]
    },
    {
     "name": "stderr",
     "output_type": "stream",
     "text": [
      "Epoch [23/50]:   0%|                                   | 0/1500 [00:00<?, ?it/s]/home/faisal/MLprojects/fMRI-LOADING/fMRI_dataloader/chunked_dataset.py:39: UserWarning: The given NumPy array is not writable, and PyTorch does not support non-writable tensors. This means writing to this tensor will result in undefined behavior. You may want to copy the array to protect its data or make it writable before converting it to a tensor. This type of warning will be suppressed for the rest of this program. (Triggered internally at ../torch/csrc/utils/tensor_numpy.cpp:206.)\n",
      "  \"clean\": torch.from_numpy(clean).unsqueeze(0).float(),\n",
      "/home/faisal/MLprojects/fMRI-LOADING/fMRI_dataloader/chunked_dataset.py:39: UserWarning: The given NumPy array is not writable, and PyTorch does not support non-writable tensors. This means writing to this tensor will result in undefined behavior. You may want to copy the array to protect its data or make it writable before converting it to a tensor. This type of warning will be suppressed for the rest of this program. (Triggered internally at ../torch/csrc/utils/tensor_numpy.cpp:206.)\n",
      "  \"clean\": torch.from_numpy(clean).unsqueeze(0).float(),\n",
      "                                                                                \r"
     ]
    },
    {
     "name": "stdout",
     "output_type": "stream",
     "text": [
      "📉 Epoch 23: Avg Loss = 0.000058\n"
     ]
    },
    {
     "name": "stderr",
     "output_type": "stream",
     "text": [
      "Epoch [24/50]:   0%|                                   | 0/1500 [00:00<?, ?it/s]/home/faisal/MLprojects/fMRI-LOADING/fMRI_dataloader/chunked_dataset.py:39: UserWarning: The given NumPy array is not writable, and PyTorch does not support non-writable tensors. This means writing to this tensor will result in undefined behavior. You may want to copy the array to protect its data or make it writable before converting it to a tensor. This type of warning will be suppressed for the rest of this program. (Triggered internally at ../torch/csrc/utils/tensor_numpy.cpp:206.)\n",
      "  \"clean\": torch.from_numpy(clean).unsqueeze(0).float(),\n",
      "/home/faisal/MLprojects/fMRI-LOADING/fMRI_dataloader/chunked_dataset.py:39: UserWarning: The given NumPy array is not writable, and PyTorch does not support non-writable tensors. This means writing to this tensor will result in undefined behavior. You may want to copy the array to protect its data or make it writable before converting it to a tensor. This type of warning will be suppressed for the rest of this program. (Triggered internally at ../torch/csrc/utils/tensor_numpy.cpp:206.)\n",
      "  \"clean\": torch.from_numpy(clean).unsqueeze(0).float(),\n",
      "                                                                                \r"
     ]
    },
    {
     "name": "stdout",
     "output_type": "stream",
     "text": [
      "📉 Epoch 24: Avg Loss = 0.000058\n",
      "✅ Best model updated at epoch 24 with loss 0.000058\n"
     ]
    },
    {
     "name": "stderr",
     "output_type": "stream",
     "text": [
      "Epoch [25/50]:   0%|                                   | 0/1500 [00:00<?, ?it/s]/home/faisal/MLprojects/fMRI-LOADING/fMRI_dataloader/chunked_dataset.py:39: UserWarning: The given NumPy array is not writable, and PyTorch does not support non-writable tensors. This means writing to this tensor will result in undefined behavior. You may want to copy the array to protect its data or make it writable before converting it to a tensor. This type of warning will be suppressed for the rest of this program. (Triggered internally at ../torch/csrc/utils/tensor_numpy.cpp:206.)\n",
      "  \"clean\": torch.from_numpy(clean).unsqueeze(0).float(),\n",
      "/home/faisal/MLprojects/fMRI-LOADING/fMRI_dataloader/chunked_dataset.py:39: UserWarning: The given NumPy array is not writable, and PyTorch does not support non-writable tensors. This means writing to this tensor will result in undefined behavior. You may want to copy the array to protect its data or make it writable before converting it to a tensor. This type of warning will be suppressed for the rest of this program. (Triggered internally at ../torch/csrc/utils/tensor_numpy.cpp:206.)\n",
      "  \"clean\": torch.from_numpy(clean).unsqueeze(0).float(),\n",
      "                                                                                \r"
     ]
    },
    {
     "name": "stdout",
     "output_type": "stream",
     "text": [
      "📉 Epoch 25: Avg Loss = 0.000056\n",
      "✅ Best model updated at epoch 25 with loss 0.000056\n"
     ]
    },
    {
     "name": "stderr",
     "output_type": "stream",
     "text": [
      "Epoch [26/50]:   0%|                                   | 0/1500 [00:00<?, ?it/s]/home/faisal/MLprojects/fMRI-LOADING/fMRI_dataloader/chunked_dataset.py:39: UserWarning: The given NumPy array is not writable, and PyTorch does not support non-writable tensors. This means writing to this tensor will result in undefined behavior. You may want to copy the array to protect its data or make it writable before converting it to a tensor. This type of warning will be suppressed for the rest of this program. (Triggered internally at ../torch/csrc/utils/tensor_numpy.cpp:206.)\n",
      "  \"clean\": torch.from_numpy(clean).unsqueeze(0).float(),\n",
      "/home/faisal/MLprojects/fMRI-LOADING/fMRI_dataloader/chunked_dataset.py:39: UserWarning: The given NumPy array is not writable, and PyTorch does not support non-writable tensors. This means writing to this tensor will result in undefined behavior. You may want to copy the array to protect its data or make it writable before converting it to a tensor. This type of warning will be suppressed for the rest of this program. (Triggered internally at ../torch/csrc/utils/tensor_numpy.cpp:206.)\n",
      "  \"clean\": torch.from_numpy(clean).unsqueeze(0).float(),\n",
      "                                                                                \r"
     ]
    },
    {
     "name": "stdout",
     "output_type": "stream",
     "text": [
      "📉 Epoch 26: Avg Loss = 0.000057\n"
     ]
    },
    {
     "name": "stderr",
     "output_type": "stream",
     "text": [
      "Epoch [27/50]:   0%|                                   | 0/1500 [00:00<?, ?it/s]/home/faisal/MLprojects/fMRI-LOADING/fMRI_dataloader/chunked_dataset.py:39: UserWarning: The given NumPy array is not writable, and PyTorch does not support non-writable tensors. This means writing to this tensor will result in undefined behavior. You may want to copy the array to protect its data or make it writable before converting it to a tensor. This type of warning will be suppressed for the rest of this program. (Triggered internally at ../torch/csrc/utils/tensor_numpy.cpp:206.)\n",
      "  \"clean\": torch.from_numpy(clean).unsqueeze(0).float(),\n",
      "/home/faisal/MLprojects/fMRI-LOADING/fMRI_dataloader/chunked_dataset.py:39: UserWarning: The given NumPy array is not writable, and PyTorch does not support non-writable tensors. This means writing to this tensor will result in undefined behavior. You may want to copy the array to protect its data or make it writable before converting it to a tensor. This type of warning will be suppressed for the rest of this program. (Triggered internally at ../torch/csrc/utils/tensor_numpy.cpp:206.)\n",
      "  \"clean\": torch.from_numpy(clean).unsqueeze(0).float(),\n",
      "                                                                                \r"
     ]
    },
    {
     "name": "stdout",
     "output_type": "stream",
     "text": [
      "📉 Epoch 27: Avg Loss = 0.000056\n",
      "✅ Best model updated at epoch 27 with loss 0.000056\n"
     ]
    },
    {
     "name": "stderr",
     "output_type": "stream",
     "text": [
      "Epoch [28/50]:   0%|                                   | 0/1500 [00:00<?, ?it/s]/home/faisal/MLprojects/fMRI-LOADING/fMRI_dataloader/chunked_dataset.py:39: UserWarning: The given NumPy array is not writable, and PyTorch does not support non-writable tensors. This means writing to this tensor will result in undefined behavior. You may want to copy the array to protect its data or make it writable before converting it to a tensor. This type of warning will be suppressed for the rest of this program. (Triggered internally at ../torch/csrc/utils/tensor_numpy.cpp:206.)\n",
      "  \"clean\": torch.from_numpy(clean).unsqueeze(0).float(),\n",
      "/home/faisal/MLprojects/fMRI-LOADING/fMRI_dataloader/chunked_dataset.py:39: UserWarning: The given NumPy array is not writable, and PyTorch does not support non-writable tensors. This means writing to this tensor will result in undefined behavior. You may want to copy the array to protect its data or make it writable before converting it to a tensor. This type of warning will be suppressed for the rest of this program. (Triggered internally at ../torch/csrc/utils/tensor_numpy.cpp:206.)\n",
      "  \"clean\": torch.from_numpy(clean).unsqueeze(0).float(),\n",
      "                                                                                \r"
     ]
    },
    {
     "name": "stdout",
     "output_type": "stream",
     "text": [
      "📉 Epoch 28: Avg Loss = 0.000056\n"
     ]
    },
    {
     "name": "stderr",
     "output_type": "stream",
     "text": [
      "Epoch [29/50]:   0%|                                   | 0/1500 [00:00<?, ?it/s]/home/faisal/MLprojects/fMRI-LOADING/fMRI_dataloader/chunked_dataset.py:39: UserWarning: The given NumPy array is not writable, and PyTorch does not support non-writable tensors. This means writing to this tensor will result in undefined behavior. You may want to copy the array to protect its data or make it writable before converting it to a tensor. This type of warning will be suppressed for the rest of this program. (Triggered internally at ../torch/csrc/utils/tensor_numpy.cpp:206.)\n",
      "  \"clean\": torch.from_numpy(clean).unsqueeze(0).float(),\n",
      "/home/faisal/MLprojects/fMRI-LOADING/fMRI_dataloader/chunked_dataset.py:39: UserWarning: The given NumPy array is not writable, and PyTorch does not support non-writable tensors. This means writing to this tensor will result in undefined behavior. You may want to copy the array to protect its data or make it writable before converting it to a tensor. This type of warning will be suppressed for the rest of this program. (Triggered internally at ../torch/csrc/utils/tensor_numpy.cpp:206.)\n",
      "  \"clean\": torch.from_numpy(clean).unsqueeze(0).float(),\n",
      "                                                                                \r"
     ]
    },
    {
     "name": "stdout",
     "output_type": "stream",
     "text": [
      "📉 Epoch 29: Avg Loss = 0.000055\n",
      "✅ Best model updated at epoch 29 with loss 0.000055\n"
     ]
    },
    {
     "name": "stderr",
     "output_type": "stream",
     "text": [
      "Epoch [30/50]:   0%|                                   | 0/1500 [00:00<?, ?it/s]/home/faisal/MLprojects/fMRI-LOADING/fMRI_dataloader/chunked_dataset.py:39: UserWarning: The given NumPy array is not writable, and PyTorch does not support non-writable tensors. This means writing to this tensor will result in undefined behavior. You may want to copy the array to protect its data or make it writable before converting it to a tensor. This type of warning will be suppressed for the rest of this program. (Triggered internally at ../torch/csrc/utils/tensor_numpy.cpp:206.)\n",
      "  \"clean\": torch.from_numpy(clean).unsqueeze(0).float(),\n",
      "/home/faisal/MLprojects/fMRI-LOADING/fMRI_dataloader/chunked_dataset.py:39: UserWarning: The given NumPy array is not writable, and PyTorch does not support non-writable tensors. This means writing to this tensor will result in undefined behavior. You may want to copy the array to protect its data or make it writable before converting it to a tensor. This type of warning will be suppressed for the rest of this program. (Triggered internally at ../torch/csrc/utils/tensor_numpy.cpp:206.)\n",
      "  \"clean\": torch.from_numpy(clean).unsqueeze(0).float(),\n",
      "                                                                                \r"
     ]
    },
    {
     "name": "stdout",
     "output_type": "stream",
     "text": [
      "📉 Epoch 30: Avg Loss = 0.000055\n",
      "✅ Best model updated at epoch 30 with loss 0.000055\n"
     ]
    },
    {
     "name": "stderr",
     "output_type": "stream",
     "text": [
      "Epoch [31/50]:   0%|                                   | 0/1500 [00:00<?, ?it/s]/home/faisal/MLprojects/fMRI-LOADING/fMRI_dataloader/chunked_dataset.py:39: UserWarning: The given NumPy array is not writable, and PyTorch does not support non-writable tensors. This means writing to this tensor will result in undefined behavior. You may want to copy the array to protect its data or make it writable before converting it to a tensor. This type of warning will be suppressed for the rest of this program. (Triggered internally at ../torch/csrc/utils/tensor_numpy.cpp:206.)\n",
      "  \"clean\": torch.from_numpy(clean).unsqueeze(0).float(),\n",
      "/home/faisal/MLprojects/fMRI-LOADING/fMRI_dataloader/chunked_dataset.py:39: UserWarning: The given NumPy array is not writable, and PyTorch does not support non-writable tensors. This means writing to this tensor will result in undefined behavior. You may want to copy the array to protect its data or make it writable before converting it to a tensor. This type of warning will be suppressed for the rest of this program. (Triggered internally at ../torch/csrc/utils/tensor_numpy.cpp:206.)\n",
      "  \"clean\": torch.from_numpy(clean).unsqueeze(0).float(),\n",
      "                                                                                \r"
     ]
    },
    {
     "name": "stdout",
     "output_type": "stream",
     "text": [
      "📉 Epoch 31: Avg Loss = 0.000052\n",
      "✅ Best model updated at epoch 31 with loss 0.000052\n"
     ]
    },
    {
     "name": "stderr",
     "output_type": "stream",
     "text": [
      "Epoch [32/50]:   0%|                                   | 0/1500 [00:00<?, ?it/s]/home/faisal/MLprojects/fMRI-LOADING/fMRI_dataloader/chunked_dataset.py:39: UserWarning: The given NumPy array is not writable, and PyTorch does not support non-writable tensors. This means writing to this tensor will result in undefined behavior. You may want to copy the array to protect its data or make it writable before converting it to a tensor. This type of warning will be suppressed for the rest of this program. (Triggered internally at ../torch/csrc/utils/tensor_numpy.cpp:206.)\n",
      "  \"clean\": torch.from_numpy(clean).unsqueeze(0).float(),\n",
      "/home/faisal/MLprojects/fMRI-LOADING/fMRI_dataloader/chunked_dataset.py:39: UserWarning: The given NumPy array is not writable, and PyTorch does not support non-writable tensors. This means writing to this tensor will result in undefined behavior. You may want to copy the array to protect its data or make it writable before converting it to a tensor. This type of warning will be suppressed for the rest of this program. (Triggered internally at ../torch/csrc/utils/tensor_numpy.cpp:206.)\n",
      "  \"clean\": torch.from_numpy(clean).unsqueeze(0).float(),\n",
      "                                                                                \r"
     ]
    },
    {
     "name": "stdout",
     "output_type": "stream",
     "text": [
      "📉 Epoch 32: Avg Loss = 0.000051\n",
      "✅ Best model updated at epoch 32 with loss 0.000051\n"
     ]
    },
    {
     "name": "stderr",
     "output_type": "stream",
     "text": [
      "Epoch [33/50]:   0%|                                   | 0/1500 [00:00<?, ?it/s]/home/faisal/MLprojects/fMRI-LOADING/fMRI_dataloader/chunked_dataset.py:39: UserWarning: The given NumPy array is not writable, and PyTorch does not support non-writable tensors. This means writing to this tensor will result in undefined behavior. You may want to copy the array to protect its data or make it writable before converting it to a tensor. This type of warning will be suppressed for the rest of this program. (Triggered internally at ../torch/csrc/utils/tensor_numpy.cpp:206.)\n",
      "  \"clean\": torch.from_numpy(clean).unsqueeze(0).float(),\n",
      "/home/faisal/MLprojects/fMRI-LOADING/fMRI_dataloader/chunked_dataset.py:39: UserWarning: The given NumPy array is not writable, and PyTorch does not support non-writable tensors. This means writing to this tensor will result in undefined behavior. You may want to copy the array to protect its data or make it writable before converting it to a tensor. This type of warning will be suppressed for the rest of this program. (Triggered internally at ../torch/csrc/utils/tensor_numpy.cpp:206.)\n",
      "  \"clean\": torch.from_numpy(clean).unsqueeze(0).float(),\n",
      "                                                                                \r"
     ]
    },
    {
     "name": "stdout",
     "output_type": "stream",
     "text": [
      "📉 Epoch 33: Avg Loss = 0.000050\n",
      "✅ Best model updated at epoch 33 with loss 0.000050\n"
     ]
    },
    {
     "name": "stderr",
     "output_type": "stream",
     "text": [
      "Epoch [34/50]:   0%|                                   | 0/1500 [00:00<?, ?it/s]/home/faisal/MLprojects/fMRI-LOADING/fMRI_dataloader/chunked_dataset.py:39: UserWarning: The given NumPy array is not writable, and PyTorch does not support non-writable tensors. This means writing to this tensor will result in undefined behavior. You may want to copy the array to protect its data or make it writable before converting it to a tensor. This type of warning will be suppressed for the rest of this program. (Triggered internally at ../torch/csrc/utils/tensor_numpy.cpp:206.)\n",
      "  \"clean\": torch.from_numpy(clean).unsqueeze(0).float(),\n",
      "/home/faisal/MLprojects/fMRI-LOADING/fMRI_dataloader/chunked_dataset.py:39: UserWarning: The given NumPy array is not writable, and PyTorch does not support non-writable tensors. This means writing to this tensor will result in undefined behavior. You may want to copy the array to protect its data or make it writable before converting it to a tensor. This type of warning will be suppressed for the rest of this program. (Triggered internally at ../torch/csrc/utils/tensor_numpy.cpp:206.)\n",
      "  \"clean\": torch.from_numpy(clean).unsqueeze(0).float(),\n",
      "                                                                                \r"
     ]
    },
    {
     "name": "stdout",
     "output_type": "stream",
     "text": [
      "📉 Epoch 34: Avg Loss = 0.000051\n"
     ]
    },
    {
     "name": "stderr",
     "output_type": "stream",
     "text": [
      "Epoch [35/50]:   0%|                                   | 0/1500 [00:00<?, ?it/s]/home/faisal/MLprojects/fMRI-LOADING/fMRI_dataloader/chunked_dataset.py:39: UserWarning: The given NumPy array is not writable, and PyTorch does not support non-writable tensors. This means writing to this tensor will result in undefined behavior. You may want to copy the array to protect its data or make it writable before converting it to a tensor. This type of warning will be suppressed for the rest of this program. (Triggered internally at ../torch/csrc/utils/tensor_numpy.cpp:206.)\n",
      "  \"clean\": torch.from_numpy(clean).unsqueeze(0).float(),\n",
      "/home/faisal/MLprojects/fMRI-LOADING/fMRI_dataloader/chunked_dataset.py:39: UserWarning: The given NumPy array is not writable, and PyTorch does not support non-writable tensors. This means writing to this tensor will result in undefined behavior. You may want to copy the array to protect its data or make it writable before converting it to a tensor. This type of warning will be suppressed for the rest of this program. (Triggered internally at ../torch/csrc/utils/tensor_numpy.cpp:206.)\n",
      "  \"clean\": torch.from_numpy(clean).unsqueeze(0).float(),\n",
      "                                                                                \r"
     ]
    },
    {
     "name": "stdout",
     "output_type": "stream",
     "text": [
      "📉 Epoch 35: Avg Loss = 0.000051\n"
     ]
    },
    {
     "name": "stderr",
     "output_type": "stream",
     "text": [
      "Epoch [36/50]:   0%|                                   | 0/1500 [00:00<?, ?it/s]/home/faisal/MLprojects/fMRI-LOADING/fMRI_dataloader/chunked_dataset.py:39: UserWarning: The given NumPy array is not writable, and PyTorch does not support non-writable tensors. This means writing to this tensor will result in undefined behavior. You may want to copy the array to protect its data or make it writable before converting it to a tensor. This type of warning will be suppressed for the rest of this program. (Triggered internally at ../torch/csrc/utils/tensor_numpy.cpp:206.)\n",
      "  \"clean\": torch.from_numpy(clean).unsqueeze(0).float(),\n",
      "/home/faisal/MLprojects/fMRI-LOADING/fMRI_dataloader/chunked_dataset.py:39: UserWarning: The given NumPy array is not writable, and PyTorch does not support non-writable tensors. This means writing to this tensor will result in undefined behavior. You may want to copy the array to protect its data or make it writable before converting it to a tensor. This type of warning will be suppressed for the rest of this program. (Triggered internally at ../torch/csrc/utils/tensor_numpy.cpp:206.)\n",
      "  \"clean\": torch.from_numpy(clean).unsqueeze(0).float(),\n",
      "                                                                                \r"
     ]
    },
    {
     "name": "stdout",
     "output_type": "stream",
     "text": [
      "📉 Epoch 36: Avg Loss = 0.000051\n"
     ]
    },
    {
     "name": "stderr",
     "output_type": "stream",
     "text": [
      "Epoch [37/50]:   0%|                                   | 0/1500 [00:00<?, ?it/s]/home/faisal/MLprojects/fMRI-LOADING/fMRI_dataloader/chunked_dataset.py:39: UserWarning: The given NumPy array is not writable, and PyTorch does not support non-writable tensors. This means writing to this tensor will result in undefined behavior. You may want to copy the array to protect its data or make it writable before converting it to a tensor. This type of warning will be suppressed for the rest of this program. (Triggered internally at ../torch/csrc/utils/tensor_numpy.cpp:206.)\n",
      "  \"clean\": torch.from_numpy(clean).unsqueeze(0).float(),\n",
      "/home/faisal/MLprojects/fMRI-LOADING/fMRI_dataloader/chunked_dataset.py:39: UserWarning: The given NumPy array is not writable, and PyTorch does not support non-writable tensors. This means writing to this tensor will result in undefined behavior. You may want to copy the array to protect its data or make it writable before converting it to a tensor. This type of warning will be suppressed for the rest of this program. (Triggered internally at ../torch/csrc/utils/tensor_numpy.cpp:206.)\n",
      "  \"clean\": torch.from_numpy(clean).unsqueeze(0).float(),\n",
      "                                                                                \r"
     ]
    },
    {
     "name": "stdout",
     "output_type": "stream",
     "text": [
      "📉 Epoch 37: Avg Loss = 0.000051\n"
     ]
    },
    {
     "name": "stderr",
     "output_type": "stream",
     "text": [
      "Epoch [38/50]:   0%|                                   | 0/1500 [00:00<?, ?it/s]/home/faisal/MLprojects/fMRI-LOADING/fMRI_dataloader/chunked_dataset.py:39: UserWarning: The given NumPy array is not writable, and PyTorch does not support non-writable tensors. This means writing to this tensor will result in undefined behavior. You may want to copy the array to protect its data or make it writable before converting it to a tensor. This type of warning will be suppressed for the rest of this program. (Triggered internally at ../torch/csrc/utils/tensor_numpy.cpp:206.)\n",
      "  \"clean\": torch.from_numpy(clean).unsqueeze(0).float(),\n",
      "/home/faisal/MLprojects/fMRI-LOADING/fMRI_dataloader/chunked_dataset.py:39: UserWarning: The given NumPy array is not writable, and PyTorch does not support non-writable tensors. This means writing to this tensor will result in undefined behavior. You may want to copy the array to protect its data or make it writable before converting it to a tensor. This type of warning will be suppressed for the rest of this program. (Triggered internally at ../torch/csrc/utils/tensor_numpy.cpp:206.)\n",
      "  \"clean\": torch.from_numpy(clean).unsqueeze(0).float(),\n",
      "                                                                                \r"
     ]
    },
    {
     "name": "stdout",
     "output_type": "stream",
     "text": [
      "📉 Epoch 38: Avg Loss = 0.000050\n",
      "✅ Best model updated at epoch 38 with loss 0.000050\n"
     ]
    },
    {
     "name": "stderr",
     "output_type": "stream",
     "text": [
      "Epoch [39/50]:   0%|                                   | 0/1500 [00:00<?, ?it/s]/home/faisal/MLprojects/fMRI-LOADING/fMRI_dataloader/chunked_dataset.py:39: UserWarning: The given NumPy array is not writable, and PyTorch does not support non-writable tensors. This means writing to this tensor will result in undefined behavior. You may want to copy the array to protect its data or make it writable before converting it to a tensor. This type of warning will be suppressed for the rest of this program. (Triggered internally at ../torch/csrc/utils/tensor_numpy.cpp:206.)\n",
      "  \"clean\": torch.from_numpy(clean).unsqueeze(0).float(),\n",
      "/home/faisal/MLprojects/fMRI-LOADING/fMRI_dataloader/chunked_dataset.py:39: UserWarning: The given NumPy array is not writable, and PyTorch does not support non-writable tensors. This means writing to this tensor will result in undefined behavior. You may want to copy the array to protect its data or make it writable before converting it to a tensor. This type of warning will be suppressed for the rest of this program. (Triggered internally at ../torch/csrc/utils/tensor_numpy.cpp:206.)\n",
      "  \"clean\": torch.from_numpy(clean).unsqueeze(0).float(),\n",
      "                                                                                \r"
     ]
    },
    {
     "name": "stdout",
     "output_type": "stream",
     "text": [
      "📉 Epoch 39: Avg Loss = 0.000050\n"
     ]
    },
    {
     "name": "stderr",
     "output_type": "stream",
     "text": [
      "Epoch [40/50]:   0%|                                   | 0/1500 [00:00<?, ?it/s]/home/faisal/MLprojects/fMRI-LOADING/fMRI_dataloader/chunked_dataset.py:39: UserWarning: The given NumPy array is not writable, and PyTorch does not support non-writable tensors. This means writing to this tensor will result in undefined behavior. You may want to copy the array to protect its data or make it writable before converting it to a tensor. This type of warning will be suppressed for the rest of this program. (Triggered internally at ../torch/csrc/utils/tensor_numpy.cpp:206.)\n",
      "  \"clean\": torch.from_numpy(clean).unsqueeze(0).float(),\n",
      "/home/faisal/MLprojects/fMRI-LOADING/fMRI_dataloader/chunked_dataset.py:39: UserWarning: The given NumPy array is not writable, and PyTorch does not support non-writable tensors. This means writing to this tensor will result in undefined behavior. You may want to copy the array to protect its data or make it writable before converting it to a tensor. This type of warning will be suppressed for the rest of this program. (Triggered internally at ../torch/csrc/utils/tensor_numpy.cpp:206.)\n",
      "  \"clean\": torch.from_numpy(clean).unsqueeze(0).float(),\n",
      "                                                                                \r"
     ]
    },
    {
     "name": "stdout",
     "output_type": "stream",
     "text": [
      "📉 Epoch 40: Avg Loss = 0.000050\n",
      "✅ Best model updated at epoch 40 with loss 0.000050\n"
     ]
    },
    {
     "name": "stderr",
     "output_type": "stream",
     "text": [
      "Epoch [41/50]:   0%|                                   | 0/1500 [00:00<?, ?it/s]/home/faisal/MLprojects/fMRI-LOADING/fMRI_dataloader/chunked_dataset.py:39: UserWarning: The given NumPy array is not writable, and PyTorch does not support non-writable tensors. This means writing to this tensor will result in undefined behavior. You may want to copy the array to protect its data or make it writable before converting it to a tensor. This type of warning will be suppressed for the rest of this program. (Triggered internally at ../torch/csrc/utils/tensor_numpy.cpp:206.)\n",
      "  \"clean\": torch.from_numpy(clean).unsqueeze(0).float(),\n",
      "/home/faisal/MLprojects/fMRI-LOADING/fMRI_dataloader/chunked_dataset.py:39: UserWarning: The given NumPy array is not writable, and PyTorch does not support non-writable tensors. This means writing to this tensor will result in undefined behavior. You may want to copy the array to protect its data or make it writable before converting it to a tensor. This type of warning will be suppressed for the rest of this program. (Triggered internally at ../torch/csrc/utils/tensor_numpy.cpp:206.)\n",
      "  \"clean\": torch.from_numpy(clean).unsqueeze(0).float(),\n",
      "                                                                                \r"
     ]
    },
    {
     "name": "stdout",
     "output_type": "stream",
     "text": [
      "📉 Epoch 41: Avg Loss = 0.000048\n",
      "✅ Best model updated at epoch 41 with loss 0.000048\n"
     ]
    },
    {
     "name": "stderr",
     "output_type": "stream",
     "text": [
      "Epoch [42/50]:   0%|                                   | 0/1500 [00:00<?, ?it/s]/home/faisal/MLprojects/fMRI-LOADING/fMRI_dataloader/chunked_dataset.py:39: UserWarning: The given NumPy array is not writable, and PyTorch does not support non-writable tensors. This means writing to this tensor will result in undefined behavior. You may want to copy the array to protect its data or make it writable before converting it to a tensor. This type of warning will be suppressed for the rest of this program. (Triggered internally at ../torch/csrc/utils/tensor_numpy.cpp:206.)\n",
      "  \"clean\": torch.from_numpy(clean).unsqueeze(0).float(),\n",
      "/home/faisal/MLprojects/fMRI-LOADING/fMRI_dataloader/chunked_dataset.py:39: UserWarning: The given NumPy array is not writable, and PyTorch does not support non-writable tensors. This means writing to this tensor will result in undefined behavior. You may want to copy the array to protect its data or make it writable before converting it to a tensor. This type of warning will be suppressed for the rest of this program. (Triggered internally at ../torch/csrc/utils/tensor_numpy.cpp:206.)\n",
      "  \"clean\": torch.from_numpy(clean).unsqueeze(0).float(),\n",
      "                                                                                \r"
     ]
    },
    {
     "name": "stdout",
     "output_type": "stream",
     "text": [
      "📉 Epoch 42: Avg Loss = 0.000048\n",
      "✅ Best model updated at epoch 42 with loss 0.000048\n"
     ]
    },
    {
     "name": "stderr",
     "output_type": "stream",
     "text": [
      "Epoch [43/50]:   0%|                                   | 0/1500 [00:00<?, ?it/s]/home/faisal/MLprojects/fMRI-LOADING/fMRI_dataloader/chunked_dataset.py:39: UserWarning: The given NumPy array is not writable, and PyTorch does not support non-writable tensors. This means writing to this tensor will result in undefined behavior. You may want to copy the array to protect its data or make it writable before converting it to a tensor. This type of warning will be suppressed for the rest of this program. (Triggered internally at ../torch/csrc/utils/tensor_numpy.cpp:206.)\n",
      "  \"clean\": torch.from_numpy(clean).unsqueeze(0).float(),\n",
      "/home/faisal/MLprojects/fMRI-LOADING/fMRI_dataloader/chunked_dataset.py:39: UserWarning: The given NumPy array is not writable, and PyTorch does not support non-writable tensors. This means writing to this tensor will result in undefined behavior. You may want to copy the array to protect its data or make it writable before converting it to a tensor. This type of warning will be suppressed for the rest of this program. (Triggered internally at ../torch/csrc/utils/tensor_numpy.cpp:206.)\n",
      "  \"clean\": torch.from_numpy(clean).unsqueeze(0).float(),\n",
      "                                                                                \r"
     ]
    },
    {
     "name": "stdout",
     "output_type": "stream",
     "text": [
      "📉 Epoch 43: Avg Loss = 0.000048\n"
     ]
    },
    {
     "name": "stderr",
     "output_type": "stream",
     "text": [
      "Epoch [44/50]:   0%|                                   | 0/1500 [00:00<?, ?it/s]/home/faisal/MLprojects/fMRI-LOADING/fMRI_dataloader/chunked_dataset.py:39: UserWarning: The given NumPy array is not writable, and PyTorch does not support non-writable tensors. This means writing to this tensor will result in undefined behavior. You may want to copy the array to protect its data or make it writable before converting it to a tensor. This type of warning will be suppressed for the rest of this program. (Triggered internally at ../torch/csrc/utils/tensor_numpy.cpp:206.)\n",
      "  \"clean\": torch.from_numpy(clean).unsqueeze(0).float(),\n",
      "/home/faisal/MLprojects/fMRI-LOADING/fMRI_dataloader/chunked_dataset.py:39: UserWarning: The given NumPy array is not writable, and PyTorch does not support non-writable tensors. This means writing to this tensor will result in undefined behavior. You may want to copy the array to protect its data or make it writable before converting it to a tensor. This type of warning will be suppressed for the rest of this program. (Triggered internally at ../torch/csrc/utils/tensor_numpy.cpp:206.)\n",
      "  \"clean\": torch.from_numpy(clean).unsqueeze(0).float(),\n",
      "                                                                                \r"
     ]
    },
    {
     "name": "stdout",
     "output_type": "stream",
     "text": [
      "📉 Epoch 44: Avg Loss = 0.000048\n"
     ]
    },
    {
     "name": "stderr",
     "output_type": "stream",
     "text": [
      "Epoch [45/50]:   0%|                                   | 0/1500 [00:00<?, ?it/s]/home/faisal/MLprojects/fMRI-LOADING/fMRI_dataloader/chunked_dataset.py:39: UserWarning: The given NumPy array is not writable, and PyTorch does not support non-writable tensors. This means writing to this tensor will result in undefined behavior. You may want to copy the array to protect its data or make it writable before converting it to a tensor. This type of warning will be suppressed for the rest of this program. (Triggered internally at ../torch/csrc/utils/tensor_numpy.cpp:206.)\n",
      "  \"clean\": torch.from_numpy(clean).unsqueeze(0).float(),\n",
      "/home/faisal/MLprojects/fMRI-LOADING/fMRI_dataloader/chunked_dataset.py:39: UserWarning: The given NumPy array is not writable, and PyTorch does not support non-writable tensors. This means writing to this tensor will result in undefined behavior. You may want to copy the array to protect its data or make it writable before converting it to a tensor. This type of warning will be suppressed for the rest of this program. (Triggered internally at ../torch/csrc/utils/tensor_numpy.cpp:206.)\n",
      "  \"clean\": torch.from_numpy(clean).unsqueeze(0).float(),\n",
      "                                                                                \r"
     ]
    },
    {
     "name": "stdout",
     "output_type": "stream",
     "text": [
      "📉 Epoch 45: Avg Loss = 0.000048\n"
     ]
    },
    {
     "name": "stderr",
     "output_type": "stream",
     "text": [
      "Epoch [46/50]:   0%|                                   | 0/1500 [00:00<?, ?it/s]/home/faisal/MLprojects/fMRI-LOADING/fMRI_dataloader/chunked_dataset.py:39: UserWarning: The given NumPy array is not writable, and PyTorch does not support non-writable tensors. This means writing to this tensor will result in undefined behavior. You may want to copy the array to protect its data or make it writable before converting it to a tensor. This type of warning will be suppressed for the rest of this program. (Triggered internally at ../torch/csrc/utils/tensor_numpy.cpp:206.)\n",
      "  \"clean\": torch.from_numpy(clean).unsqueeze(0).float(),\n",
      "/home/faisal/MLprojects/fMRI-LOADING/fMRI_dataloader/chunked_dataset.py:39: UserWarning: The given NumPy array is not writable, and PyTorch does not support non-writable tensors. This means writing to this tensor will result in undefined behavior. You may want to copy the array to protect its data or make it writable before converting it to a tensor. This type of warning will be suppressed for the rest of this program. (Triggered internally at ../torch/csrc/utils/tensor_numpy.cpp:206.)\n",
      "  \"clean\": torch.from_numpy(clean).unsqueeze(0).float(),\n",
      "                                                                                \r"
     ]
    },
    {
     "name": "stdout",
     "output_type": "stream",
     "text": [
      "📉 Epoch 46: Avg Loss = 0.000048\n"
     ]
    },
    {
     "name": "stderr",
     "output_type": "stream",
     "text": [
      "Epoch [47/50]:   0%|                                   | 0/1500 [00:00<?, ?it/s]/home/faisal/MLprojects/fMRI-LOADING/fMRI_dataloader/chunked_dataset.py:39: UserWarning: The given NumPy array is not writable, and PyTorch does not support non-writable tensors. This means writing to this tensor will result in undefined behavior. You may want to copy the array to protect its data or make it writable before converting it to a tensor. This type of warning will be suppressed for the rest of this program. (Triggered internally at ../torch/csrc/utils/tensor_numpy.cpp:206.)\n",
      "  \"clean\": torch.from_numpy(clean).unsqueeze(0).float(),\n",
      "/home/faisal/MLprojects/fMRI-LOADING/fMRI_dataloader/chunked_dataset.py:39: UserWarning: The given NumPy array is not writable, and PyTorch does not support non-writable tensors. This means writing to this tensor will result in undefined behavior. You may want to copy the array to protect its data or make it writable before converting it to a tensor. This type of warning will be suppressed for the rest of this program. (Triggered internally at ../torch/csrc/utils/tensor_numpy.cpp:206.)\n",
      "  \"clean\": torch.from_numpy(clean).unsqueeze(0).float(),\n",
      "                                                                                \r"
     ]
    },
    {
     "name": "stdout",
     "output_type": "stream",
     "text": [
      "📉 Epoch 47: Avg Loss = 0.000048\n",
      "✅ Best model updated at epoch 47 with loss 0.000048\n"
     ]
    },
    {
     "name": "stderr",
     "output_type": "stream",
     "text": [
      "Epoch [48/50]:   0%|                                   | 0/1500 [00:00<?, ?it/s]/home/faisal/MLprojects/fMRI-LOADING/fMRI_dataloader/chunked_dataset.py:39: UserWarning: The given NumPy array is not writable, and PyTorch does not support non-writable tensors. This means writing to this tensor will result in undefined behavior. You may want to copy the array to protect its data or make it writable before converting it to a tensor. This type of warning will be suppressed for the rest of this program. (Triggered internally at ../torch/csrc/utils/tensor_numpy.cpp:206.)\n",
      "  \"clean\": torch.from_numpy(clean).unsqueeze(0).float(),\n",
      "/home/faisal/MLprojects/fMRI-LOADING/fMRI_dataloader/chunked_dataset.py:39: UserWarning: The given NumPy array is not writable, and PyTorch does not support non-writable tensors. This means writing to this tensor will result in undefined behavior. You may want to copy the array to protect its data or make it writable before converting it to a tensor. This type of warning will be suppressed for the rest of this program. (Triggered internally at ../torch/csrc/utils/tensor_numpy.cpp:206.)\n",
      "  \"clean\": torch.from_numpy(clean).unsqueeze(0).float(),\n",
      "                                                                                \r"
     ]
    },
    {
     "name": "stdout",
     "output_type": "stream",
     "text": [
      "📉 Epoch 48: Avg Loss = 0.000047\n",
      "✅ Best model updated at epoch 48 with loss 0.000047\n"
     ]
    },
    {
     "name": "stderr",
     "output_type": "stream",
     "text": [
      "Epoch [49/50]:   0%|                                   | 0/1500 [00:00<?, ?it/s]/home/faisal/MLprojects/fMRI-LOADING/fMRI_dataloader/chunked_dataset.py:39: UserWarning: The given NumPy array is not writable, and PyTorch does not support non-writable tensors. This means writing to this tensor will result in undefined behavior. You may want to copy the array to protect its data or make it writable before converting it to a tensor. This type of warning will be suppressed for the rest of this program. (Triggered internally at ../torch/csrc/utils/tensor_numpy.cpp:206.)\n",
      "  \"clean\": torch.from_numpy(clean).unsqueeze(0).float(),\n",
      "/home/faisal/MLprojects/fMRI-LOADING/fMRI_dataloader/chunked_dataset.py:39: UserWarning: The given NumPy array is not writable, and PyTorch does not support non-writable tensors. This means writing to this tensor will result in undefined behavior. You may want to copy the array to protect its data or make it writable before converting it to a tensor. This type of warning will be suppressed for the rest of this program. (Triggered internally at ../torch/csrc/utils/tensor_numpy.cpp:206.)\n",
      "  \"clean\": torch.from_numpy(clean).unsqueeze(0).float(),\n",
      "                                                                                \r"
     ]
    },
    {
     "name": "stdout",
     "output_type": "stream",
     "text": [
      "📉 Epoch 49: Avg Loss = 0.000047\n"
     ]
    },
    {
     "name": "stderr",
     "output_type": "stream",
     "text": [
      "Epoch [50/50]:   0%|                                   | 0/1500 [00:00<?, ?it/s]/home/faisal/MLprojects/fMRI-LOADING/fMRI_dataloader/chunked_dataset.py:39: UserWarning: The given NumPy array is not writable, and PyTorch does not support non-writable tensors. This means writing to this tensor will result in undefined behavior. You may want to copy the array to protect its data or make it writable before converting it to a tensor. This type of warning will be suppressed for the rest of this program. (Triggered internally at ../torch/csrc/utils/tensor_numpy.cpp:206.)\n",
      "  \"clean\": torch.from_numpy(clean).unsqueeze(0).float(),\n",
      "/home/faisal/MLprojects/fMRI-LOADING/fMRI_dataloader/chunked_dataset.py:39: UserWarning: The given NumPy array is not writable, and PyTorch does not support non-writable tensors. This means writing to this tensor will result in undefined behavior. You may want to copy the array to protect its data or make it writable before converting it to a tensor. This type of warning will be suppressed for the rest of this program. (Triggered internally at ../torch/csrc/utils/tensor_numpy.cpp:206.)\n",
      "  \"clean\": torch.from_numpy(clean).unsqueeze(0).float(),\n",
      "                                                                                "
     ]
    },
    {
     "name": "stdout",
     "output_type": "stream",
     "text": [
      "📉 Epoch 50: Avg Loss = 0.000048\n"
     ]
    },
    {
     "name": "stderr",
     "output_type": "stream",
     "text": [
      "\r"
     ]
    }
   ],
   "source": [
    "\n",
    "best_loss = float('inf')\n",
    "loss_history = []\n",
    "\n",
    "for epoch in range(config['num_epochs']):\n",
    "    model.train()\n",
    "    running_loss = 0.0\n",
    "\n",
    "    loop = tqdm(train_loader, desc=f\"Epoch [{epoch+1}/{config['num_epochs']}]\", leave=False)\n",
    "\n",
    "    for batch in loop:\n",
    "        noisy = batch['noisy'].to(device)  \n",
    "        clean = batch['clean'].to(device)\n",
    "\n",
    "        optimizer.zero_grad()\n",
    "        output = model(noisy)              \n",
    "        loss = criterion(output, clean)\n",
    "        loss.backward()\n",
    "        optimizer.step()\n",
    "\n",
    "        running_loss += loss.item() * noisy.size(0)\n",
    "        loop.set_postfix(loss=loss.item())\n",
    "\n",
    "    scheduler.step()\n",
    "\n",
    "    epoch_loss = running_loss / len(train_loader.dataset)\n",
    "    loss_history.append(epoch_loss)\n",
    "\n",
    "    print(f\"📉 Epoch {epoch+1}: Avg Loss = {epoch_loss:.6f}\")\n",
    "\n",
    "    \n",
    "    torch.save({\n",
    "        'epoch': epoch + 1,\n",
    "        'model_state_dict': model.state_dict(),\n",
    "        'optimizer_state_dict': optimizer.state_dict(),\n",
    "        'loss': epoch_loss,\n",
    "    }, config['checkpoint_path'])\n",
    "\n",
    "    \n",
    "    if epoch_loss < best_loss:\n",
    "        best_loss = epoch_loss\n",
    "        torch.save(model.state_dict(), config['best_model_path'])\n",
    "        print(f\"✅ Best model updated at epoch {epoch+1} with loss {best_loss:.6f}\")\n"
   ]
  },
  {
   "cell_type": "code",
   "execution_count": null,
   "id": "4b18a9b5-e36d-41c7-b1df-bc37287a09cb",
   "metadata": {},
   "outputs": [
    {
     "name": "stderr",
     "output_type": "stream",
     "text": [
      "/tmp/ipykernel_98775/83459302.py:8: FutureWarning: You are using `torch.load` with `weights_only=False` (the current default value), which uses the default pickle module implicitly. It is possible to construct malicious pickle data which will execute arbitrary code during unpickling (See https://github.com/pytorch/pytorch/blob/main/SECURITY.md#untrusted-models for more details). In a future release, the default value for `weights_only` will be flipped to `True`. This limits the functions that could be executed during unpickling. Arbitrary objects will no longer be allowed to be loaded via this mode unless they are explicitly allowlisted by the user via `torch.serialization.add_safe_globals`. We recommend you start setting `weights_only=True` for any use case where you don't have full control of the loaded file. Please open an issue on GitHub for any issues related to this experimental feature.\n",
      "  model.load_state_dict(torch.load(config['best_model_path'], map_location=device))\n",
      "/tmp/ipykernel_98775/83459302.py:51: UserWarning: Glyph 129504 (\\N{BRAIN}) missing from font(s) DejaVu Sans.\n",
      "  plt.tight_layout()\n"
     ]
    },
    {
     "data": {
      "image/png": "[encoded data removed]",
      "text/plain": [
       "<Figure size 1500x500 with 3 Axes>"
      ]
     },
     "metadata": {},
     "output_type": "display_data"
    }
   ],
   "source": [
    "import torch\n",
    "import numpy as np\n",
    "import matplotlib.pyplot as plt\n",
    "from chunked_dataset import ChunkedNPYDataset\n",
    "\n",
    "model.eval()\n",
    "model.load_state_dict(torch.load(config['best_model_path'], map_location=device))\n",
    "model.to(device)\n",
    "\n",
    "dataset = ChunkedNPYDataset(config['chunk_dir'])\n",
    "\n",
    "\n",
    "sample_index = 1100    \n",
    "slice_index = 14  \n",
    "\n",
    "\n",
    "sample = dataset[sample_index]\n",
    "\n",
    "noisy_input = sample[\"noisy\"].unsqueeze(0).to(device)     \n",
    "clean_target = sample[\"clean\"][0].cpu().numpy()          \n",
    "noisy_input_np = sample[\"noisy\"][0].cpu().numpy()      \n",
    "\n",
    "\n",
    "with torch.no_grad():\n",
    "    denoised_output = model(noisy_input)[0, 0].cpu().numpy()  \n",
    "\n",
    "\n",
    "plt.figure(figsize=(15, 5))\n",
    "\n",
    "# Noisy\n",
    "plt.subplot(1, 3, 1)\n",
    "plt.imshow(noisy_input_np[slice_index], cmap='gray')\n",
    "plt.title(f\"Noisy Slice Z={slice_index} (Sample {sample_index})\")\n",
    "plt.axis('off')\n",
    "\n",
    "# Denoised\n",
    "plt.subplot(1, 3, 2)\n",
    "plt.imshow(denoised_output[slice_index], cmap='gray')\n",
    "plt.title(\"Denoised Output\")\n",
    "plt.axis('off')\n",
    "\n",
    "# Clean\n",
    "plt.subplot(1, 3, 3)\n",
    "plt.imshow(clean_target[slice_index], cmap='gray')\n",
    "plt.title(\"Clean Ground Truth\")\n",
    "plt.axis('off')\n",
    "\n",
    "plt.suptitle(\"Custom Slice Visualization – Noisy vs Denoised vs Clean\", fontsize=14)\n",
    "plt.tight_layout()\n",
    "plt.show()\n"
   ]
  },
  {
   "cell_type": "code",
   "execution_count": null,
   "id": "ab0afc92-7fbf-409d-ade7-1df81cd40b28",
   "metadata": {
    "scrolled": true
   },
   "outputs": [
    {
     "data": {
      "image/png": "[encoded data removed]",
      "text/plain": [
       "<Figure size 500x500 with 2 Axes>"
      ]
     },
     "metadata": {},
     "output_type": "display_data"
    }
   ],
   "source": [
    "# Visualize residual\n",
    "diff = np.abs(denoised_output[slice_index] - clean_target[slice_index])\n",
    "\n",
    "plt.figure(figsize=(5, 5))\n",
    "plt.imshow(diff, cmap='hot')\n",
    "plt.title(f\"Residual |Denoised - Clean| (Z={slice_index})\")\n",
    "plt.axis('off')\n",
    "plt.colorbar()\n",
    "plt.tight_layout()\n",
    "plt.show()\n"
   ]
  },
  {
   "cell_type": "code",
   "execution_count": null,
   "id": "bf19879d-e253-45b0-a084-42f612666cec",
   "metadata": {},
   "outputs": [],
   "source": []
  },
  {
   "cell_type": "code",
   "execution_count": null,
   "id": "9e1c65f5-2b7f-464d-a2d1-4dca0871d7a9",
   "metadata": {},
   "outputs": [],
   "source": [
    "from skimage.metrics import peak_signal_noise_ratio as psnr\n",
    "from skimage.metrics import structural_similarity as ssim\n",
    "import numpy as np\n",
    "\n",
    "def compute_metrics_single_sam(denoised_volume, clean_volume):\n",
    "    \n",
    "    psnr_list = []\n",
    "    ssim_list = []\n",
    "\n",
    "    for z in range(40):  \n",
    "        psnr_val = psnr(clean_volume[z], denoised_volume[z], data_range=1.0)\n",
    "        ssim_val = ssim(clean_volume[z], denoised_volume[z], data_range=1.0)\n",
    "        psnr_list.append(psnr_val)\n",
    "        ssim_list.append(ssim_val)\n",
    "\n",
    "    avg_psnr = np.mean(psnr_list)\n",
    "    avg_ssim = np.mean(ssim_list)\n",
    "\n",
    "    print(f\"📊 Sample PSNR (Z=0–39): {avg_psnr:.3f}\")\n",
    "    print(f\"📊 Sample SSIM (Z=0–39): {avg_ssim:.3f}\")\n",
    "    \n",
    "    return avg_psnr, avg_ssim\n"
   ]
  },
  {
   "cell_type": "code",
   "execution_count": null,
   "id": "67c87f52-d437-40a0-8f74-65ff1e2f295c",
   "metadata": {},
   "outputs": [
    {
     "name": "stdout",
     "output_type": "stream",
     "text": [
      "📊 Sample PSNR (Z=0–39): 44.199\n",
      "📊 Sample SSIM (Z=0–39): 0.990\n"
     ]
    }
   ],
   "source": [
    "\n",
    "sample = dataset[sample_index]\n",
    "noisy_input = sample[\"noisy\"].unsqueeze(0).to(device)\n",
    "clean_volume = sample[\"clean\"][0].cpu().numpy()               \n",
    "\n",
    "with torch.no_grad():\n",
    "    denoised_volume = model(noisy_input)[0, 0].cpu().numpy()  \n",
    "\n",
    "\n",
    "avg_psnr, avg_ssim = compute_metrics_single_sam(denoised_volume, clean_volume)\n"
   ]
  },
  {
   "cell_type": "code",
   "execution_count": null,
   "id": "6ef25a79-042e-49a5-80c2-18d1cb11951b",
   "metadata": {},
   "outputs": [
    {
     "data": {
      "image/png": "[encoded data removed]",
      "text/plain": [
       "<Figure size 640x480 with 1 Axes>"
      ]
     },
     "metadata": {},
     "output_type": "display_data"
    }
   ],
   "source": [
    "import matplotlib.pyplot as plt\n",
    "\n",
    "\n",
    "losses = [\n",
    "    0.002515, 0.000396, 0.000272, 0.000199, 0.000162, 0.000141, 0.000127, 0.000112, \n",
    "    0.000103, 0.000101, 0.000081, 0.000079, 0.000078, 0.000074, 0.000073, 0.000071, \n",
    "    0.000072, 0.000069, 0.000067, 0.000067, 0.000059, 0.000058, 0.000058, 0.000058, \n",
    "    0.000056, 0.000057, 0.000056, 0.000056, 0.000055, 0.000055, 0.000052, 0.000051, \n",
    "    0.000050, 0.000051, 0.000051, 0.000051, 0.000051, 0.000050, 0.000050, 0.000050, \n",
    "    0.000048, 0.000048, 0.000048, 0.000048, 0.000048, 0.000048, 0.000048, 0.000047, \n",
    "    0.000047\n",
    "]\n",
    "\n",
    "\n",
    "epochs = list(range(1, len(losses) + 1))\n",
    "\n",
    "\n",
    "plt.plot(epochs, losses, marker='o', color='b', label='Average Loss')\n",
    "plt.xlabel('Epochs')\n",
    "plt.ylabel('Loss')\n",
    "plt.title('Average Loss per Epoch')\n",
    "plt.grid(True)\n",
    "plt.legend()\n",
    "plt.show()\n"
   ]
  },
  {
   "cell_type": "code",
   "execution_count": null,
   "id": "0203f26b",
   "metadata": {},
   "outputs": [],
   "source": []
  }
 ],
 "metadata": {
  "kernelspec": {
   "display_name": "base",
   "language": "python",
   "name": "python3"
  },
  "language_info": {
   "codemirror_mode": {
    "name": "ipython",
    "version": 3
   },
   "file_extension": ".py",
   "mimetype": "text/x-python",
   "name": "python",
   "nbconvert_exporter": "python",
   "pygments_lexer": "ipython3",
   "version": "3.12.7"
  }
 },
 "nbformat": 4,
 "nbformat_minor": 5
}
